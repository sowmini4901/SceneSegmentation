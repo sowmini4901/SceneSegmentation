{
  "nbformat": 4,
  "nbformat_minor": 0,
  "metadata": {
    "colab": {
      "name": "data.ipynb",
      "provenance": [],
      "collapsed_sections": []
    },
    "kernelspec": {
      "name": "python3",
      "display_name": "Python 3"
    },
    "language_info": {
      "name": "python"
    },
    "accelerator": "GPU"
  },
  "cells": [
    {
      "cell_type": "code",
      "source": [
        "pip install focal-loss"
      ],
      "metadata": {
        "colab": {
          "base_uri": "https://localhost:8080/"
        },
        "id": "zrbGMLjptlvt",
        "outputId": "dc6de214-f3b4-4bd8-d84b-8fcc53ec520c"
      },
      "execution_count": null,
      "outputs": [
        {
          "output_type": "stream",
          "name": "stdout",
          "text": [
            "Requirement already satisfied: focal-loss in /usr/local/lib/python3.7/dist-packages (0.0.7)\n",
            "Requirement already satisfied: tensorflow>=2.2 in /usr/local/lib/python3.7/dist-packages (from focal-loss) (2.7.0)\n",
            "Requirement already satisfied: h5py>=2.9.0 in /usr/local/lib/python3.7/dist-packages (from tensorflow>=2.2->focal-loss) (3.1.0)\n",
            "Requirement already satisfied: six>=1.12.0 in /usr/local/lib/python3.7/dist-packages (from tensorflow>=2.2->focal-loss) (1.15.0)\n",
            "Requirement already satisfied: keras-preprocessing>=1.1.1 in /usr/local/lib/python3.7/dist-packages (from tensorflow>=2.2->focal-loss) (1.1.2)\n",
            "Requirement already satisfied: numpy>=1.14.5 in /usr/local/lib/python3.7/dist-packages (from tensorflow>=2.2->focal-loss) (1.19.5)\n",
            "Requirement already satisfied: termcolor>=1.1.0 in /usr/local/lib/python3.7/dist-packages (from tensorflow>=2.2->focal-loss) (1.1.0)\n",
            "Requirement already satisfied: opt-einsum>=2.3.2 in /usr/local/lib/python3.7/dist-packages (from tensorflow>=2.2->focal-loss) (3.3.0)\n",
            "Requirement already satisfied: keras<2.8,>=2.7.0rc0 in /usr/local/lib/python3.7/dist-packages (from tensorflow>=2.2->focal-loss) (2.7.0)\n",
            "Requirement already satisfied: tensorflow-io-gcs-filesystem>=0.21.0 in /usr/local/lib/python3.7/dist-packages (from tensorflow>=2.2->focal-loss) (0.22.0)\n",
            "Requirement already satisfied: grpcio<2.0,>=1.24.3 in /usr/local/lib/python3.7/dist-packages (from tensorflow>=2.2->focal-loss) (1.42.0)\n",
            "Requirement already satisfied: google-pasta>=0.1.1 in /usr/local/lib/python3.7/dist-packages (from tensorflow>=2.2->focal-loss) (0.2.0)\n",
            "Requirement already satisfied: astunparse>=1.6.0 in /usr/local/lib/python3.7/dist-packages (from tensorflow>=2.2->focal-loss) (1.6.3)\n",
            "Requirement already satisfied: tensorflow-estimator<2.8,~=2.7.0rc0 in /usr/local/lib/python3.7/dist-packages (from tensorflow>=2.2->focal-loss) (2.7.0)\n",
            "Requirement already satisfied: gast<0.5.0,>=0.2.1 in /usr/local/lib/python3.7/dist-packages (from tensorflow>=2.2->focal-loss) (0.4.0)\n",
            "Requirement already satisfied: flatbuffers<3.0,>=1.12 in /usr/local/lib/python3.7/dist-packages (from tensorflow>=2.2->focal-loss) (2.0)\n",
            "Requirement already satisfied: absl-py>=0.4.0 in /usr/local/lib/python3.7/dist-packages (from tensorflow>=2.2->focal-loss) (0.12.0)\n",
            "Requirement already satisfied: tensorboard~=2.6 in /usr/local/lib/python3.7/dist-packages (from tensorflow>=2.2->focal-loss) (2.7.0)\n",
            "Requirement already satisfied: wrapt>=1.11.0 in /usr/local/lib/python3.7/dist-packages (from tensorflow>=2.2->focal-loss) (1.13.3)\n",
            "Requirement already satisfied: typing-extensions>=3.6.6 in /usr/local/lib/python3.7/dist-packages (from tensorflow>=2.2->focal-loss) (3.10.0.2)\n",
            "Requirement already satisfied: wheel<1.0,>=0.32.0 in /usr/local/lib/python3.7/dist-packages (from tensorflow>=2.2->focal-loss) (0.37.0)\n",
            "Requirement already satisfied: libclang>=9.0.1 in /usr/local/lib/python3.7/dist-packages (from tensorflow>=2.2->focal-loss) (12.0.0)\n",
            "Requirement already satisfied: protobuf>=3.9.2 in /usr/local/lib/python3.7/dist-packages (from tensorflow>=2.2->focal-loss) (3.17.3)\n",
            "Requirement already satisfied: cached-property in /usr/local/lib/python3.7/dist-packages (from h5py>=2.9.0->tensorflow>=2.2->focal-loss) (1.5.2)\n",
            "Requirement already satisfied: werkzeug>=0.11.15 in /usr/local/lib/python3.7/dist-packages (from tensorboard~=2.6->tensorflow>=2.2->focal-loss) (1.0.1)\n",
            "Requirement already satisfied: tensorboard-data-server<0.7.0,>=0.6.0 in /usr/local/lib/python3.7/dist-packages (from tensorboard~=2.6->tensorflow>=2.2->focal-loss) (0.6.1)\n",
            "Requirement already satisfied: google-auth<3,>=1.6.3 in /usr/local/lib/python3.7/dist-packages (from tensorboard~=2.6->tensorflow>=2.2->focal-loss) (1.35.0)\n",
            "Requirement already satisfied: tensorboard-plugin-wit>=1.6.0 in /usr/local/lib/python3.7/dist-packages (from tensorboard~=2.6->tensorflow>=2.2->focal-loss) (1.8.0)\n",
            "Requirement already satisfied: setuptools>=41.0.0 in /usr/local/lib/python3.7/dist-packages (from tensorboard~=2.6->tensorflow>=2.2->focal-loss) (57.4.0)\n",
            "Requirement already satisfied: google-auth-oauthlib<0.5,>=0.4.1 in /usr/local/lib/python3.7/dist-packages (from tensorboard~=2.6->tensorflow>=2.2->focal-loss) (0.4.6)\n",
            "Requirement already satisfied: requests<3,>=2.21.0 in /usr/local/lib/python3.7/dist-packages (from tensorboard~=2.6->tensorflow>=2.2->focal-loss) (2.23.0)\n",
            "Requirement already satisfied: markdown>=2.6.8 in /usr/local/lib/python3.7/dist-packages (from tensorboard~=2.6->tensorflow>=2.2->focal-loss) (3.3.6)\n",
            "Requirement already satisfied: rsa<5,>=3.1.4 in /usr/local/lib/python3.7/dist-packages (from google-auth<3,>=1.6.3->tensorboard~=2.6->tensorflow>=2.2->focal-loss) (4.8)\n",
            "Requirement already satisfied: pyasn1-modules>=0.2.1 in /usr/local/lib/python3.7/dist-packages (from google-auth<3,>=1.6.3->tensorboard~=2.6->tensorflow>=2.2->focal-loss) (0.2.8)\n",
            "Requirement already satisfied: cachetools<5.0,>=2.0.0 in /usr/local/lib/python3.7/dist-packages (from google-auth<3,>=1.6.3->tensorboard~=2.6->tensorflow>=2.2->focal-loss) (4.2.4)\n",
            "Requirement already satisfied: requests-oauthlib>=0.7.0 in /usr/local/lib/python3.7/dist-packages (from google-auth-oauthlib<0.5,>=0.4.1->tensorboard~=2.6->tensorflow>=2.2->focal-loss) (1.3.0)\n",
            "Requirement already satisfied: importlib-metadata>=4.4 in /usr/local/lib/python3.7/dist-packages (from markdown>=2.6.8->tensorboard~=2.6->tensorflow>=2.2->focal-loss) (4.8.2)\n",
            "Requirement already satisfied: zipp>=0.5 in /usr/local/lib/python3.7/dist-packages (from importlib-metadata>=4.4->markdown>=2.6.8->tensorboard~=2.6->tensorflow>=2.2->focal-loss) (3.6.0)\n",
            "Requirement already satisfied: pyasn1<0.5.0,>=0.4.6 in /usr/local/lib/python3.7/dist-packages (from pyasn1-modules>=0.2.1->google-auth<3,>=1.6.3->tensorboard~=2.6->tensorflow>=2.2->focal-loss) (0.4.8)\n",
            "Requirement already satisfied: idna<3,>=2.5 in /usr/local/lib/python3.7/dist-packages (from requests<3,>=2.21.0->tensorboard~=2.6->tensorflow>=2.2->focal-loss) (2.10)\n",
            "Requirement already satisfied: urllib3!=1.25.0,!=1.25.1,<1.26,>=1.21.1 in /usr/local/lib/python3.7/dist-packages (from requests<3,>=2.21.0->tensorboard~=2.6->tensorflow>=2.2->focal-loss) (1.24.3)\n",
            "Requirement already satisfied: chardet<4,>=3.0.2 in /usr/local/lib/python3.7/dist-packages (from requests<3,>=2.21.0->tensorboard~=2.6->tensorflow>=2.2->focal-loss) (3.0.4)\n",
            "Requirement already satisfied: certifi>=2017.4.17 in /usr/local/lib/python3.7/dist-packages (from requests<3,>=2.21.0->tensorboard~=2.6->tensorflow>=2.2->focal-loss) (2021.10.8)\n",
            "Requirement already satisfied: oauthlib>=3.0.0 in /usr/local/lib/python3.7/dist-packages (from requests-oauthlib>=0.7.0->google-auth-oauthlib<0.5,>=0.4.1->tensorboard~=2.6->tensorflow>=2.2->focal-loss) (3.1.1)\n"
          ]
        }
      ]
    },
    {
      "cell_type": "code",
      "metadata": {
        "id": "g08VtaQOdgPn"
      },
      "source": [
        "import pickle\n",
        "import torch\n",
        "import tensorflow as tf\n",
        "from tensorflow import keras\n",
        "import matplotlib.pyplot as plt\n",
        "%matplotlib inline\n",
        "import numpy as np\n",
        "import sklearn\n",
        "import os\n",
        "from sklearn import preprocessing\n",
        "from focal_loss import BinaryFocalLoss"
      ],
      "execution_count": null,
      "outputs": []
    },
    {
      "cell_type": "code",
      "metadata": {
        "colab": {
          "base_uri": "https://localhost:8080/"
        },
        "id": "kDKEBLAExBHC",
        "outputId": "8943beef-e49b-406b-ca2d-a557e40ed2cd"
      },
      "source": [
        "from google.colab import drive\n",
        "\n",
        "drive.mount('/content/gdrive')"
      ],
      "execution_count": null,
      "outputs": [
        {
          "output_type": "stream",
          "name": "stdout",
          "text": [
            "Drive already mounted at /content/gdrive; to attempt to forcibly remount, call drive.mount(\"/content/gdrive\", force_remount=True).\n"
          ]
        }
      ]
    },
    {
      "cell_type": "code",
      "metadata": {
        "colab": {
          "base_uri": "https://localhost:8080/"
        },
        "id": "xRHUqE-UwEYU",
        "outputId": "281e6900-bc09-48e4-fe99-adbaf2b65b1e"
      },
      "source": [
        "with open('/content/gdrive/MyDrive/movies/data/tt0052357.pkl','rb') as f:\n",
        "    data=pickle.load(f)\n",
        "\n",
        "print(type(data))\n",
        "x=list(data)\n",
        "print(x)"
      ],
      "execution_count": null,
      "outputs": [
        {
          "output_type": "stream",
          "name": "stdout",
          "text": [
            "<class 'dict'>\n",
            "['place', 'cast', 'action', 'audio', 'scene_transition_boundary_ground_truth', 'shot_end_frame', 'scene_transition_boundary_prediction', 'imdb_id']\n"
          ]
        }
      ]
    },
    {
      "cell_type": "code",
      "metadata": {
        "colab": {
          "base_uri": "https://localhost:8080/"
        },
        "id": "z5ygHmGr_mcH",
        "outputId": "250ef9eb-1439-49a1-84ea-04f4b251c353"
      },
      "source": [
        "#boolean vector for scene transitioning. Used for training the neural network which is ground truth\n",
        "a=data['scene_transition_boundary_ground_truth']\n",
        "print(type(a))\n",
        "a=a.data.numpy()\n",
        "print(a)"
      ],
      "execution_count": null,
      "outputs": [
        {
          "output_type": "stream",
          "name": "stdout",
          "text": [
            "<class 'torch.Tensor'>\n",
            "[False False False ... False False  True]\n"
          ]
        }
      ]
    },
    {
      "cell_type": "code",
      "metadata": {
        "colab": {
          "base_uri": "https://localhost:8080/"
        },
        "id": "XMuxZ3XBb1Ny",
        "outputId": "a2054829-3128-4861-da20-28adbd47748f"
      },
      "source": [
        "print(type(a))\n",
        "len(a)"
      ],
      "execution_count": null,
      "outputs": [
        {
          "output_type": "stream",
          "name": "stdout",
          "text": [
            "<class 'numpy.ndarray'>\n"
          ]
        },
        {
          "output_type": "execute_result",
          "data": {
            "text/plain": [
              "1100"
            ]
          },
          "metadata": {},
          "execution_count": 6
        }
      ]
    },
    {
      "cell_type": "code",
      "metadata": {
        "id": "mVDXr-jJIaEk",
        "colab": {
          "base_uri": "https://localhost:8080/"
        },
        "outputId": "d720edc7-137d-4cd3-fd66-685492fd4464"
      },
      "source": [
        "#each shot boundary for a scene.\n",
        "b=data['scene_transition_boundary_prediction']\n",
        "print(type(b))\n",
        "b=b.data.numpy()\n",
        "print(b)\n"
      ],
      "execution_count": null,
      "outputs": [
        {
          "output_type": "stream",
          "name": "stdout",
          "text": [
            "<class 'torch.Tensor'>\n",
            "[0.     0.     0.4878 ... 0.     0.     0.    ]\n"
          ]
        }
      ]
    },
    {
      "cell_type": "code",
      "metadata": {
        "colab": {
          "base_uri": "https://localhost:8080/"
        },
        "id": "I0CVC47GcF6_",
        "outputId": "1a85c10f-eda4-4e1f-ce73-da305c34b80d"
      },
      "source": [
        "print(type(b))\n",
        "len(b)"
      ],
      "execution_count": null,
      "outputs": [
        {
          "output_type": "stream",
          "name": "stdout",
          "text": [
            "<class 'numpy.ndarray'>\n"
          ]
        },
        {
          "output_type": "execute_result",
          "data": {
            "text/plain": [
              "1100"
            ]
          },
          "metadata": {},
          "execution_count": 8
        }
      ]
    },
    {
      "cell_type": "code",
      "metadata": {
        "colab": {
          "base_uri": "https://localhost:8080/"
        },
        "id": "SCvjtDOUwf7P",
        "outputId": "7bb3af70-bb44-49e7-997f-a5674d20defd"
      },
      "source": [
        "c=data['shot_end_frame']\n",
        "print(type(c))\n",
        "c=c.data.numpy()\n",
        "print(c)"
      ],
      "execution_count": null,
      "outputs": [
        {
          "output_type": "stream",
          "name": "stdout",
          "text": [
            "<class 'torch.Tensor'>\n",
            "[    45   1149   1437 ... 183782 184354 184794]\n"
          ]
        }
      ]
    },
    {
      "cell_type": "code",
      "metadata": {
        "colab": {
          "base_uri": "https://localhost:8080/"
        },
        "id": "Be1OID9gwsNN",
        "outputId": "37e323c6-da2d-42cd-c339-70a2f94503c9"
      },
      "source": [
        "print(type(c))\n",
        "len(c)"
      ],
      "execution_count": null,
      "outputs": [
        {
          "output_type": "stream",
          "name": "stdout",
          "text": [
            "<class 'numpy.ndarray'>\n"
          ]
        },
        {
          "output_type": "execute_result",
          "data": {
            "text/plain": [
              "1101"
            ]
          },
          "metadata": {},
          "execution_count": 10
        }
      ]
    },
    {
      "cell_type": "code",
      "metadata": {
        "id": "8s1QUywX5vS9",
        "colab": {
          "base_uri": "https://localhost:8080/"
        },
        "outputId": "a6f6174f-e063-4c14-d652-eaed0c483061"
      },
      "source": [
        "place=data['place']\n",
        "print(type(place))\n",
        "place=place.data.numpy()\n",
        "len(place)\n",
        "placeSize=place.shape[1]\n",
        "print(place.shape[1])"
      ],
      "execution_count": null,
      "outputs": [
        {
          "output_type": "stream",
          "name": "stdout",
          "text": [
            "<class 'torch.Tensor'>\n",
            "2048\n"
          ]
        }
      ]
    },
    {
      "cell_type": "code",
      "metadata": {
        "colab": {
          "base_uri": "https://localhost:8080/"
        },
        "id": "XA0M2FvgcPPn",
        "outputId": "5adf284e-5a24-45f7-a0c5-70af77e2f1ca"
      },
      "source": [
        "print(type(place))\n",
        "print(place[0])\n",
        "len(place)\n",
        "print(place.shape)\n",
        "#each feature vector length 2048. Total 1101 datapoints."
      ],
      "execution_count": null,
      "outputs": [
        {
          "output_type": "stream",
          "name": "stdout",
          "text": [
            "<class 'numpy.ndarray'>\n",
            "[0.06155615 0.10176984 0.05208468 ... 0.06714813 0.00159654 0.00959668]\n",
            "(1101, 2048)\n"
          ]
        }
      ]
    },
    {
      "cell_type": "code",
      "metadata": {
        "colab": {
          "base_uri": "https://localhost:8080/"
        },
        "id": "TCds2LaiZsXL",
        "outputId": "c12a6e54-9ef9-4412-a083-07857a7046d2"
      },
      "source": [
        "cast=data['cast']\n",
        "print(type(cast))\n",
        "cast=cast.data.numpy()\n",
        "castSize=cast.shape[1]\n",
        "print(cast.shape[1])"
      ],
      "execution_count": null,
      "outputs": [
        {
          "output_type": "stream",
          "name": "stdout",
          "text": [
            "<class 'torch.Tensor'>\n",
            "512\n"
          ]
        }
      ]
    },
    {
      "cell_type": "code",
      "metadata": {
        "colab": {
          "base_uri": "https://localhost:8080/"
        },
        "id": "d1Wj5dyxcqGX",
        "outputId": "a825ba60-640a-4a79-fdca-bef274ee0b9a"
      },
      "source": [
        "print(type(cast))\n",
        "len(cast)"
      ],
      "execution_count": null,
      "outputs": [
        {
          "output_type": "stream",
          "name": "stdout",
          "text": [
            "<class 'numpy.ndarray'>\n"
          ]
        },
        {
          "output_type": "execute_result",
          "data": {
            "text/plain": [
              "1101"
            ]
          },
          "metadata": {},
          "execution_count": 14
        }
      ]
    },
    {
      "cell_type": "code",
      "metadata": {
        "colab": {
          "base_uri": "https://localhost:8080/"
        },
        "id": "EgBOUIvBZyRR",
        "outputId": "5faf31f6-9846-44c2-8984-1dda6699cba4"
      },
      "source": [
        "action=data['action']\n",
        "print(type(action))\n",
        "action=action.data.numpy()\n",
        "actionSize=action.shape[1]\n",
        "print(action.shape[1])"
      ],
      "execution_count": null,
      "outputs": [
        {
          "output_type": "stream",
          "name": "stdout",
          "text": [
            "<class 'torch.Tensor'>\n",
            "512\n"
          ]
        }
      ]
    },
    {
      "cell_type": "code",
      "metadata": {
        "colab": {
          "base_uri": "https://localhost:8080/"
        },
        "id": "L6wxCmZscwCw",
        "outputId": "102c227e-e94e-49d8-e2fc-b30cb24e0fce"
      },
      "source": [
        "print(type(action))"
      ],
      "execution_count": null,
      "outputs": [
        {
          "output_type": "stream",
          "name": "stdout",
          "text": [
            "<class 'numpy.ndarray'>\n"
          ]
        }
      ]
    },
    {
      "cell_type": "code",
      "metadata": {
        "colab": {
          "base_uri": "https://localhost:8080/"
        },
        "id": "sk1Z79q7aPyj",
        "outputId": "31bc6550-6db1-441d-beb9-0add72115b90"
      },
      "source": [
        "audio=data['audio']\n",
        "print(type(audio))\n",
        "audio=audio.data.numpy()\n",
        "audioSize=audio.shape[1]\n",
        "print(audio.shape[1])"
      ],
      "execution_count": null,
      "outputs": [
        {
          "output_type": "stream",
          "name": "stdout",
          "text": [
            "<class 'torch.Tensor'>\n",
            "512\n"
          ]
        }
      ]
    },
    {
      "cell_type": "code",
      "metadata": {
        "colab": {
          "base_uri": "https://localhost:8080/"
        },
        "id": "-8Yfo6wHc1Jf",
        "outputId": "e1ad3217-15e3-4577-f2e5-5c057f9e7927"
      },
      "source": [
        "print(type(audio))\n",
        "len(audio)\n",
        "print(audio.shape)"
      ],
      "execution_count": null,
      "outputs": [
        {
          "output_type": "stream",
          "name": "stdout",
          "text": [
            "<class 'numpy.ndarray'>\n",
            "(1101, 512)\n"
          ]
        }
      ]
    },
    {
      "cell_type": "code",
      "metadata": {
        "colab": {
          "base_uri": "https://localhost:8080/"
        },
        "id": "X8GDu_q2aiM7",
        "outputId": "feda4bad-0e55-4bd6-f0c7-171eab95cb49"
      },
      "source": [
        "print(data['imdb_id'])\n",
        "\n",
        "print(type(data['imdb_id']))\n",
        "imdb=data['imdb_id']\n",
        "len(data['imdb_id'])"
      ],
      "execution_count": null,
      "outputs": [
        {
          "output_type": "stream",
          "name": "stdout",
          "text": [
            "tt0052357\n",
            "<class 'str'>\n"
          ]
        },
        {
          "output_type": "execute_result",
          "data": {
            "text/plain": [
              "9"
            ]
          },
          "metadata": {},
          "execution_count": 19
        }
      ]
    },
    {
      "cell_type": "code",
      "metadata": {
        "colab": {
          "base_uri": "https://localhost:8080/"
        },
        "id": "5-9C8tAabMvL",
        "outputId": "6baba5e0-8088-480c-aa7d-cf9fc7425a9a"
      },
      "source": [
        "shotendFrame=data['shot_end_frame']\n",
        "print(type(shotendFrame))\n",
        "shotendFrame=shotendFrame.data.numpy()\n",
        "print(shotendFrame)"
      ],
      "execution_count": null,
      "outputs": [
        {
          "output_type": "stream",
          "name": "stdout",
          "text": [
            "<class 'torch.Tensor'>\n",
            "[    45   1149   1437 ... 183782 184354 184794]\n"
          ]
        }
      ]
    },
    {
      "cell_type": "code",
      "metadata": {
        "colab": {
          "base_uri": "https://localhost:8080/"
        },
        "id": "GRxnJ3hedX04",
        "outputId": "26466778-7297-4586-ef80-94777c35eb70"
      },
      "source": [
        "print(type(shotendFrame))\n",
        "print(shotendFrame[1])"
      ],
      "execution_count": null,
      "outputs": [
        {
          "output_type": "stream",
          "name": "stdout",
          "text": [
            "<class 'numpy.ndarray'>\n",
            "1149\n"
          ]
        }
      ]
    },
    {
      "cell_type": "code",
      "metadata": {
        "colab": {
          "base_uri": "https://localhost:8080/"
        },
        "id": "hHQGj3Q_83e0",
        "outputId": "478eca91-8d3f-46e4-bdc7-d4bbe08d75cf"
      },
      "source": [
        "dict1=dict([('scene_transition_boundary_ground_truth',a),('scene_transition_boundary_prediction',b),('shot_end_frame',c),('imdb_id',imdb)])\n",
        "print(list(dict1))"
      ],
      "execution_count": null,
      "outputs": [
        {
          "output_type": "stream",
          "name": "stdout",
          "text": [
            "['scene_transition_boundary_ground_truth', 'scene_transition_boundary_prediction', 'shot_end_frame', 'imdb_id']\n"
          ]
        }
      ]
    },
    {
      "cell_type": "code",
      "metadata": {
        "id": "zp9XaLeJTdxt"
      },
      "source": [
        ""
      ],
      "execution_count": null,
      "outputs": []
    },
    {
      "cell_type": "code",
      "metadata": {
        "id": "uWxp3xt9GzFb",
        "colab": {
          "base_uri": "https://localhost:8080/"
        },
        "outputId": "f0ff252c-f758-4d77-acb3-a9053ab9d104"
      },
      "source": [
        "#\n",
        "x=np.hstack((place,cast,action,audio))\n",
        "print(x.shape)\n",
        "#no of columns\n",
        "print(x[0].shape)\n",
        "#no.of rows\n",
        "print(x.shape[0])\n",
        "y = data['scene_transition_boundary_ground_truth']"
      ],
      "execution_count": null,
      "outputs": [
        {
          "output_type": "stream",
          "name": "stdout",
          "text": [
            "(1101, 3584)\n",
            "(3584,)\n",
            "1101\n"
          ]
        }
      ]
    },
    {
      "cell_type": "code",
      "metadata": {
        "id": "GR7zvXU5TexG"
      },
      "source": [
        "k=0\n",
        "j=0\n",
        "N = x.shape[0] #changed from x_scaled\n",
        "x_fold = np.zeros((N - 1, 2*x.shape[1])) #changed from x_scaled\n",
        "for i in range(N - 1):\n",
        "    x_fold[i,:] = np.hstack((x[i,:], x[i+1,:])) #changed from x_scaled\n",
        "    \n",
        "if (j == 0):\n",
        "    X = x_fold\n",
        "    Y = y\n",
        "else:\n",
        "    X = np.concatenate((X, x_fold), axis = 0)\n",
        "    Y = np.concatenate((Y, y))\n",
        "    \n",
        "j = j + 1\n",
        "k = k + 1\n"
      ],
      "execution_count": null,
      "outputs": []
    },
    {
      "cell_type": "code",
      "metadata": {
        "colab": {
          "base_uri": "https://localhost:8080/"
        },
        "id": "hgRfMjd2Utyl",
        "outputId": "31991bc3-c208-476c-a74c-8635aa188986"
      },
      "source": [
        "print(X.shape[1])\n",
        "print(X)\n",
        "\n",
        "print(Y.shape)\n",
        "print(Y)"
      ],
      "execution_count": null,
      "outputs": [
        {
          "output_type": "stream",
          "name": "stdout",
          "text": [
            "7168\n",
            "[[ 0.06155615  0.10176984  0.05208468 ... -0.06822268 -0.0753056\n",
            "  -0.08308809]\n",
            " [ 0.05211007  0.13151902  0.04764145 ... -0.03319887 -0.03856922\n",
            "  -0.04540908]\n",
            " [ 0.08774771  2.48847365  0.05433211 ... -0.04131426 -0.05464325\n",
            "  -0.06502584]\n",
            " ...\n",
            " [ 0.2964682   0.52283287  0.97852695 ... -0.0135067  -0.04963969\n",
            "  -0.05133732]\n",
            " [ 0.12348853  0.44956958  0.24555996 ... -0.02716186 -0.05924841\n",
            "  -0.06544846]\n",
            " [ 0.01962076  0.72867876  0.24324328 ... -0.07757854 -0.07045795\n",
            "  -0.07738513]]\n",
            "torch.Size([1100])\n",
            "tensor([False, False, False,  ..., False, False,  True])\n"
          ]
        }
      ]
    },
    {
      "cell_type": "code",
      "metadata": {
        "id": "ebDIkW0qyklH"
      },
      "source": [
        "M = Y.shape[0]\n",
        "Y_gt = np.zeros((M), dtype = np.uint8)\n",
        "for i in range(M):\n",
        "    if(Y[i] == True):\n",
        "        Y_gt[i] = 1\n",
        "    elif(Y[i] == False):\n",
        "        Y_gt[i] = 0"
      ],
      "execution_count": null,
      "outputs": []
    },
    {
      "cell_type": "code",
      "metadata": {
        "id": "-EI2dXg_yxPm"
      },
      "source": [
        "array_dims = np.zeros((8), dtype = np.int32)\n",
        "array_dims[0] = placeSize\n",
        "array_dims[1] = castSize #feat1_size + feat2_size\n",
        "array_dims[2] = actionSize #feat1_size + feat2_size + feat3_size\n",
        "array_dims[3] = audioSize #feat1_size + feat2_size + feat3_size + feat4_size\n",
        "array_dims[4] = array_dims[0] #array_dims[3] + feat1_size\n",
        "array_dims[5] = array_dims[1] #array_dims[3] + feat1_size + feat2_size\n",
        "array_dims[6] = array_dims[2] #array_dims[3] + feat1_size + feat2_size + feat3_size\n",
        "array_dims[7] = array_dims[3] #a"
      ],
      "execution_count": null,
      "outputs": []
    },
    {
      "cell_type": "code",
      "metadata": {
        "colab": {
          "base_uri": "https://localhost:8080/"
        },
        "id": "EHn988VdYVr7",
        "outputId": "4dc9f621-348e-4e1e-a775-83904292481b"
      },
      "source": [
        "inputs = tf.keras.layers.Input(shape = (X.shape[1]))\n",
        "x1, x2, x3, x4, x5, x6, x7, x8 = tf.split(inputs, array_dims, axis = 1)\n",
        "\n",
        "print(inputs)"
      ],
      "execution_count": null,
      "outputs": [
        {
          "output_type": "stream",
          "name": "stdout",
          "text": [
            "KerasTensor(type_spec=TensorSpec(shape=(None, 7168), dtype=tf.float32, name='input_1'), name='input_1', description=\"created by layer 'input_1'\")\n"
          ]
        }
      ]
    },
    {
      "cell_type": "code",
      "source": [
        "x1_r = tf.keras.layers.Reshape((placeSize, 1))(x1)\n",
        "#x1_b = tf.keras.layers.BatchNormalization(axis=1)(x1_r)\n",
        "\n",
        "x5_r = tf.keras.layers.Reshape((placeSize, 1))(x5)\n",
        "#x5_b = tf.keras.layers.BatchNormalization(axis=1)(x5_r)\n",
        "\n",
        "#x2b = tf.keras.layers.BatchNormalization(axis=1)(x2)\n",
        "x2_conc = tf.keras.layers.concatenate([x2, x2, x2, x2], axis = 1) # create vectors of size (None, 2048) from size (None, 512)\n",
        "x2_r = tf.keras.layers.Reshape((placeSize, 1))(x2_conc)\n",
        "print(x2_r.shape)\n",
        "\n",
        "#x3b = tf.keras.layers.BatchNormalization(axis=1)(x3)\n",
        "x3_conc = tf.keras.layers.concatenate([x3, x3, x3, x3], axis = 1)\n",
        "x3_r = tf.keras.layers.Reshape((placeSize, 1))(x3_conc)\n",
        "print(x3_r.shape)\n",
        "\n",
        "#x4b = tf.keras.layers.BatchNormalization(axis=1)(x4)\n",
        "x4_conc = tf.keras.layers.concatenate([x4, x4, x4, x4], axis = 1)\n",
        "x4_r = tf.keras.layers.Reshape((placeSize, 1))(x4_conc)\n",
        "print(x4_r.shape)\n",
        "\n",
        "#x6b = tf.keras.layers.BatchNormalization(axis=1)(x6)\n",
        "x6_conc = tf.keras.layers.concatenate([x6, x6, x6, x6], axis = 1) # create vectors of size (None, 2048) from size (None, 512)\n",
        "x6_r = tf.keras.layers.Reshape((placeSize, 1))(x6_conc)\n",
        "print(x6_r.shape)\n",
        "\n",
        "#x7b = tf.keras.layers.BatchNormalization(axis=1)(x7)\n",
        "x7_conc = tf.keras.layers.concatenate([x7, x7, x7, x7], axis = 1)\n",
        "x7_r = tf.keras.layers.Reshape((placeSize, 1))(x7_conc)\n",
        "print(x7_r.shape)\n",
        "\n",
        "#x8b = tf.keras.layers.BatchNormalization(axis=1)(x8)\n",
        "x8_conc = tf.keras.layers.concatenate([x8, x8, x8, x8], axis = 1)\n",
        "x8_r = tf.keras.layers.Reshape((placeSize, 1))(x8_conc)\n",
        "print(x8_r.shape)\n",
        "\n",
        "shot_1 = tf.keras.layers.concatenate([x1_r, x2_r, x3_r, x4_r], axis = 2) # create a vector of size (None, 2048, 4)\n",
        "print(shot_1.shape)\n",
        "\n",
        "shot_2 = tf.keras.layers.concatenate([x5_r, x6_r, x7_r, x8_r], axis = 2) # create a vector of size (None, 2048, 4)\n",
        "print(shot_2.shape)"
      ],
      "metadata": {
        "colab": {
          "base_uri": "https://localhost:8080/"
        },
        "id": "ip5-L4Aqhepq",
        "outputId": "59bb023f-88c1-4644-c211-68dfcafc6eec"
      },
      "execution_count": null,
      "outputs": [
        {
          "output_type": "stream",
          "name": "stdout",
          "text": [
            "(None, 2048, 1)\n",
            "(None, 2048, 1)\n",
            "(None, 2048, 1)\n",
            "(None, 2048, 1)\n",
            "(None, 2048, 1)\n",
            "(None, 2048, 1)\n",
            "(None, 2048, 4)\n",
            "(None, 2048, 4)\n"
          ]
        }
      ]
    },
    {
      "cell_type": "code",
      "source": [
        "# building VGG net(standard architecture)\n",
        "conv1 = tf.keras.Sequential()\n",
        "conv1.add(tf.keras.layers.Reshape((1, placeSize, 4)))\n",
        "\n",
        "conv1.add(tf.keras.layers.Conv2D(filters=64, kernel_size=(1, 3), strides=1, padding='same', activation='linear')) #input size (None, 1, 2048, 4)\n",
        "conv1.add(tf.keras.layers.BatchNormalization(axis=3))\n",
        "conv1.add(tf.keras.layers.ReLU())\n",
        "\n",
        "conv1.add(tf.keras.layers.Conv2D(filters=64, kernel_size=(1, 3), strides=1, padding='same', activation='linear')) #input size (None, 1, 2048, 64)\n",
        "conv1.add(tf.keras.layers.BatchNormalization(axis=3))\n",
        "conv1.add(tf.keras.layers.ReLU())\n",
        "\n",
        "conv1.add(tf.keras.layers.MaxPool2D(pool_size=(1,2),strides=(2,2)))  #input size(none,1,2048,64)\n",
        "\n",
        "\n",
        "conv1.add(tf.keras.layers.Conv2D(filters=128, kernel_size=(1, 3), strides=1, padding='same', activation='linear')) #input size (None, 1, 1024, 64)\n",
        "conv1.add(tf.keras.layers.BatchNormalization(axis=3))\n",
        "conv1.add(tf.keras.layers.ReLU())\n",
        "\n",
        "conv1.add(tf.keras.layers.Conv2D(filters=128, kernel_size=(1, 3), strides=1, padding='same', activation='linear')) #input size (None, 1, 1024,64)\n",
        "conv1.add(tf.keras.layers.BatchNormalization(axis=3))\n",
        "conv1.add(tf.keras.layers.ReLU())\n",
        "\n",
        "conv1.add(tf.keras.layers.MaxPool2D(pool_size=(1,2),strides=(2,2)))   #input size(none,1,512,128)\n",
        "\n",
        "\n",
        "conv1.add(tf.keras.layers.Conv2D(filters=256, kernel_size=(1, 3), strides=1, padding='same', activation='linear')) #input size (None, 1, 512, 128)\n",
        "conv1.add(tf.keras.layers.BatchNormalization(axis=3))\n",
        "conv1.add(tf.keras.layers.ReLU())\n",
        "\n",
        "conv1.add(tf.keras.layers.Conv2D(filters=256, kernel_size=(1, 3), strides=1, padding='same', activation='linear')) #input size (None, 1, 512, 128)\n",
        "conv1.add(tf.keras.layers.BatchNormalization(axis=3))\n",
        "conv1.add(tf.keras.layers.ReLU())\n",
        "\n",
        "conv1.add(tf.keras.layers.Conv2D(filters=256, kernel_size=(1, 3), strides=1, padding='same', activation='linear')) #input size (None, 1, 512, 128)\n",
        "conv1.add(tf.keras.layers.BatchNormalization(axis=3))\n",
        "conv1.add(tf.keras.layers.ReLU())\n",
        "\n",
        "conv1.add(tf.keras.layers.MaxPool2D(pool_size=(1,2),strides=(2,2))) #output size (None, 1, 256, 256)\n",
        "\n",
        "conv1.add(tf.keras.layers.Conv2D(filters=512, kernel_size=(1, 3), strides=1, padding='same', activation='linear')) #input size (None, 1, 256, 256)\n",
        "conv1.add(tf.keras.layers.BatchNormalization(axis=3))\n",
        "conv1.add(tf.keras.layers.ReLU())\n",
        "\n",
        "\n",
        "conv1.add(tf.keras.layers.Conv2D(filters=512, kernel_size=(1, 3), strides=1, padding='same', activation='linear')) #input size (None, 1, 256, 256)\n",
        "conv1.add(tf.keras.layers.BatchNormalization(axis=3))\n",
        "conv1.add(tf.keras.layers.ReLU())\n",
        "\n",
        "conv1.add(tf.keras.layers.Conv2D(filters=512, kernel_size=(1, 3), strides=1, padding='same', activation='linear')) #input size (None, 1, 256, 256)\n",
        "conv1.add(tf.keras.layers.BatchNormalization(axis=3))\n",
        "conv1.add(tf.keras.layers.ReLU())\n",
        "\n",
        "conv1.add(tf.keras.layers.MaxPool2D(pool_size=(1,2),strides=(2,2))) #output size (None, 1, 128, 512)\n",
        "\n",
        "conv1.add(tf.keras.layers.Conv2D(filters=512, kernel_size=(1, 3), strides=1, padding='same', activation='linear')) #input size (None, 1, 128, 512)\n",
        "conv1.add(tf.keras.layers.BatchNormalization(axis=3))\n",
        "conv1.add(tf.keras.layers.ReLU())\n",
        "\n",
        "\n",
        "conv1.add(tf.keras.layers.Conv2D(filters=512, kernel_size=(1, 3), strides=1, padding='same', activation='linear')) #input size (None, 1, 128, 512)\n",
        "conv1.add(tf.keras.layers.BatchNormalization(axis=3))\n",
        "conv1.add(tf.keras.layers.ReLU())\n",
        "\n",
        "conv1.add(tf.keras.layers.Conv2D(filters=512, kernel_size=(1, 3), strides=1, padding='same', activation='linear')) #input size (None, 1, 128, 512)\n",
        "conv1.add(tf.keras.layers.BatchNormalization(axis=3))\n",
        "conv1.add(tf.keras.layers.ReLU())\n",
        "\n",
        "conv1.add(tf.keras.layers.MaxPool2D(pool_size=(1,2),strides=(2,2))) #output size (None, 1, 64, 512)\n",
        "\n",
        "encoded_left = conv1(shot_1)\n",
        "print(conv1.summary())\n"
      ],
      "metadata": {
        "colab": {
          "base_uri": "https://localhost:8080/"
        },
        "id": "qUAHJ0_Ab2Bq",
        "outputId": "b30a460b-3aae-41b7-9cff-4c4c8b365493"
      },
      "execution_count": null,
      "outputs": [
        {
          "output_type": "stream",
          "name": "stdout",
          "text": [
            "Model: \"sequential\"\n",
            "_________________________________________________________________\n",
            " Layer (type)                Output Shape              Param #   \n",
            "=================================================================\n",
            " reshape_8 (Reshape)         (None, 1, 2048, 4)        0         \n",
            "                                                                 \n",
            " conv2d (Conv2D)             (None, 1, 2048, 64)       832       \n",
            "                                                                 \n",
            " batch_normalization (BatchN  (None, 1, 2048, 64)      256       \n",
            " ormalization)                                                   \n",
            "                                                                 \n",
            " re_lu (ReLU)                (None, 1, 2048, 64)       0         \n",
            "                                                                 \n",
            " conv2d_1 (Conv2D)           (None, 1, 2048, 64)       12352     \n",
            "                                                                 \n",
            " batch_normalization_1 (Batc  (None, 1, 2048, 64)      256       \n",
            " hNormalization)                                                 \n",
            "                                                                 \n",
            " re_lu_1 (ReLU)              (None, 1, 2048, 64)       0         \n",
            "                                                                 \n",
            " max_pooling2d (MaxPooling2D  (None, 1, 1024, 64)      0         \n",
            " )                                                               \n",
            "                                                                 \n",
            " conv2d_2 (Conv2D)           (None, 1, 1024, 128)      24704     \n",
            "                                                                 \n",
            " batch_normalization_2 (Batc  (None, 1, 1024, 128)     512       \n",
            " hNormalization)                                                 \n",
            "                                                                 \n",
            " re_lu_2 (ReLU)              (None, 1, 1024, 128)      0         \n",
            "                                                                 \n",
            " conv2d_3 (Conv2D)           (None, 1, 1024, 128)      49280     \n",
            "                                                                 \n",
            " batch_normalization_3 (Batc  (None, 1, 1024, 128)     512       \n",
            " hNormalization)                                                 \n",
            "                                                                 \n",
            " re_lu_3 (ReLU)              (None, 1, 1024, 128)      0         \n",
            "                                                                 \n",
            " max_pooling2d_1 (MaxPooling  (None, 1, 512, 128)      0         \n",
            " 2D)                                                             \n",
            "                                                                 \n",
            " conv2d_4 (Conv2D)           (None, 1, 512, 256)       98560     \n",
            "                                                                 \n",
            " batch_normalization_4 (Batc  (None, 1, 512, 256)      1024      \n",
            " hNormalization)                                                 \n",
            "                                                                 \n",
            " re_lu_4 (ReLU)              (None, 1, 512, 256)       0         \n",
            "                                                                 \n",
            " conv2d_5 (Conv2D)           (None, 1, 512, 256)       196864    \n",
            "                                                                 \n",
            " batch_normalization_5 (Batc  (None, 1, 512, 256)      1024      \n",
            " hNormalization)                                                 \n",
            "                                                                 \n",
            " re_lu_5 (ReLU)              (None, 1, 512, 256)       0         \n",
            "                                                                 \n",
            " conv2d_6 (Conv2D)           (None, 1, 512, 256)       196864    \n",
            "                                                                 \n",
            " batch_normalization_6 (Batc  (None, 1, 512, 256)      1024      \n",
            " hNormalization)                                                 \n",
            "                                                                 \n",
            " re_lu_6 (ReLU)              (None, 1, 512, 256)       0         \n",
            "                                                                 \n",
            " max_pooling2d_2 (MaxPooling  (None, 1, 256, 256)      0         \n",
            " 2D)                                                             \n",
            "                                                                 \n",
            " conv2d_7 (Conv2D)           (None, 1, 256, 512)       393728    \n",
            "                                                                 \n",
            " batch_normalization_7 (Batc  (None, 1, 256, 512)      2048      \n",
            " hNormalization)                                                 \n",
            "                                                                 \n",
            " re_lu_7 (ReLU)              (None, 1, 256, 512)       0         \n",
            "                                                                 \n",
            " conv2d_8 (Conv2D)           (None, 1, 256, 512)       786944    \n",
            "                                                                 \n",
            " batch_normalization_8 (Batc  (None, 1, 256, 512)      2048      \n",
            " hNormalization)                                                 \n",
            "                                                                 \n",
            " re_lu_8 (ReLU)              (None, 1, 256, 512)       0         \n",
            "                                                                 \n",
            " conv2d_9 (Conv2D)           (None, 1, 256, 512)       786944    \n",
            "                                                                 \n",
            " batch_normalization_9 (Batc  (None, 1, 256, 512)      2048      \n",
            " hNormalization)                                                 \n",
            "                                                                 \n",
            " re_lu_9 (ReLU)              (None, 1, 256, 512)       0         \n",
            "                                                                 \n",
            " max_pooling2d_3 (MaxPooling  (None, 1, 128, 512)      0         \n",
            " 2D)                                                             \n",
            "                                                                 \n",
            " conv2d_10 (Conv2D)          (None, 1, 128, 512)       786944    \n",
            "                                                                 \n",
            " batch_normalization_10 (Bat  (None, 1, 128, 512)      2048      \n",
            " chNormalization)                                                \n",
            "                                                                 \n",
            " re_lu_10 (ReLU)             (None, 1, 128, 512)       0         \n",
            "                                                                 \n",
            " conv2d_11 (Conv2D)          (None, 1, 128, 512)       786944    \n",
            "                                                                 \n",
            " batch_normalization_11 (Bat  (None, 1, 128, 512)      2048      \n",
            " chNormalization)                                                \n",
            "                                                                 \n",
            " re_lu_11 (ReLU)             (None, 1, 128, 512)       0         \n",
            "                                                                 \n",
            " conv2d_12 (Conv2D)          (None, 1, 128, 512)       786944    \n",
            "                                                                 \n",
            " batch_normalization_12 (Bat  (None, 1, 128, 512)      2048      \n",
            " chNormalization)                                                \n",
            "                                                                 \n",
            " re_lu_12 (ReLU)             (None, 1, 128, 512)       0         \n",
            "                                                                 \n",
            " max_pooling2d_4 (MaxPooling  (None, 1, 64, 512)       0         \n",
            " 2D)                                                             \n",
            "                                                                 \n",
            "=================================================================\n",
            "Total params: 4,924,800\n",
            "Trainable params: 4,916,352\n",
            "Non-trainable params: 8,448\n",
            "_________________________________________________________________\n",
            "None\n"
          ]
        }
      ]
    },
    {
      "cell_type": "code",
      "source": [
        "conv2 = tf.keras.Sequential()\n",
        "conv2.add(tf.keras.layers.Reshape((1, placeSize, 4)))\n",
        "\n",
        "conv2.add(tf.keras.layers.Conv2D(filters=64, kernel_size=(1, 3), strides=1, padding='same', activation='linear')) #input size (None, 1, 2048, 4)\n",
        "conv2.add(tf.keras.layers.BatchNormalization(axis=3))\n",
        "conv2.add(tf.keras.layers.ReLU())\n",
        "\n",
        "conv2.add(tf.keras.layers.Conv2D(filters=64, kernel_size=(1, 3), strides=1, padding='same', activation='linear')) #input size (None, 1, 2048, 64)\n",
        "conv2.add(tf.keras.layers.BatchNormalization(axis=3))\n",
        "conv2.add(tf.keras.layers.ReLU())\n",
        "\n",
        "conv2.add(tf.keras.layers.MaxPool2D(pool_size=(1,2),strides=(2,2)))  #input size(none,1,2048,64)\n",
        "\n",
        "\n",
        "conv2.add(tf.keras.layers.Conv2D(filters=128, kernel_size=(1, 3), strides=1, padding='same', activation='linear')) #input size (None, 1, 1024, 64)\n",
        "conv2.add(tf.keras.layers.BatchNormalization(axis=3))\n",
        "conv2.add(tf.keras.layers.ReLU())\n",
        "\n",
        "conv2.add(tf.keras.layers.Conv2D(filters=128, kernel_size=(1, 3), strides=1, padding='same', activation='linear')) #input size (None, 1, 1024,64)\n",
        "conv2.add(tf.keras.layers.BatchNormalization(axis=3))\n",
        "conv2.add(tf.keras.layers.ReLU())\n",
        "\n",
        "conv2.add(tf.keras.layers.MaxPool2D(pool_size=(1,2),strides=(2,2)))   #input size(none,1,512,128)\n",
        "\n",
        "\n",
        "conv2.add(tf.keras.layers.Conv2D(filters=256, kernel_size=(1, 3), strides=1, padding='same', activation='linear')) #input size (None, 1, 512, 128)\n",
        "conv2.add(tf.keras.layers.BatchNormalization(axis=3))\n",
        "conv2.add(tf.keras.layers.ReLU())\n",
        "\n",
        "conv2.add(tf.keras.layers.Conv2D(filters=256, kernel_size=(1, 3), strides=1, padding='same', activation='linear')) #input size (None, 1, 512, 128)\n",
        "conv2.add(tf.keras.layers.BatchNormalization(axis=3))\n",
        "conv2.add(tf.keras.layers.ReLU())\n",
        "\n",
        "conv2.add(tf.keras.layers.Conv2D(filters=256, kernel_size=(1, 3), strides=1, padding='same', activation='linear')) #input size (None, 1, 512, 128)\n",
        "conv2.add(tf.keras.layers.BatchNormalization(axis=3))\n",
        "conv2.add(tf.keras.layers.ReLU())\n",
        "\n",
        "conv2.add(tf.keras.layers.MaxPool2D(pool_size=(1,2),strides=(2,2))) #output size (None, 1, 256, 256)\n",
        "\n",
        "conv2.add(tf.keras.layers.Conv2D(filters=512, kernel_size=(1, 3), strides=1, padding='same', activation='linear')) #input size (None, 1, 256, 256)\n",
        "conv2.add(tf.keras.layers.BatchNormalization(axis=3))\n",
        "conv2.add(tf.keras.layers.ReLU())\n",
        "\n",
        "\n",
        "conv2.add(tf.keras.layers.Conv2D(filters=512, kernel_size=(1, 3), strides=1, padding='same', activation='linear')) #input size (None, 1, 256, 256)\n",
        "conv2.add(tf.keras.layers.BatchNormalization(axis=3))\n",
        "conv2.add(tf.keras.layers.ReLU())\n",
        "\n",
        "conv2.add(tf.keras.layers.Conv2D(filters=512, kernel_size=(1, 3), strides=1, padding='same', activation='linear')) #input size (None, 1, 256, 256)\n",
        "conv2.add(tf.keras.layers.BatchNormalization(axis=3))\n",
        "conv2.add(tf.keras.layers.ReLU())\n",
        "\n",
        "conv2.add(tf.keras.layers.MaxPool2D(pool_size=(1,2),strides=(2,2))) #output size (None, 1, 128, 512)\n",
        "\n",
        "conv2.add(tf.keras.layers.Conv2D(filters=512, kernel_size=(1, 3), strides=1, padding='same', activation='linear')) #input size (None, 1, 128, 512)\n",
        "conv2.add(tf.keras.layers.BatchNormalization(axis=3))\n",
        "conv2.add(tf.keras.layers.ReLU())\n",
        "\n",
        "\n",
        "conv2.add(tf.keras.layers.Conv2D(filters=512, kernel_size=(1, 3), strides=1, padding='same', activation='linear')) #input size (None, 1, 128, 512)\n",
        "conv2.add(tf.keras.layers.BatchNormalization(axis=3))\n",
        "conv2.add(tf.keras.layers.ReLU())\n",
        "\n",
        "conv2.add(tf.keras.layers.Conv2D(filters=512, kernel_size=(1, 3), strides=1, padding='same', activation='linear')) #input size (None, 1, 128, 512)\n",
        "conv2.add(tf.keras.layers.BatchNormalization(axis=3))\n",
        "conv2.add(tf.keras.layers.ReLU())\n",
        "\n",
        "conv2.add(tf.keras.layers.MaxPool2D(pool_size=(1,2),strides=(2,2))) #output size (None, 1, 64, 512)\n",
        "\n",
        "encoded_right = conv2(shot_2)\n",
        "print(conv2.summary())\n",
        "\n"
      ],
      "metadata": {
        "colab": {
          "base_uri": "https://localhost:8080/"
        },
        "id": "jdH9VJn9b5ji",
        "outputId": "88009251-0351-4855-c977-39b129e1ad47"
      },
      "execution_count": null,
      "outputs": [
        {
          "output_type": "stream",
          "name": "stdout",
          "text": [
            "Model: \"sequential_1\"\n",
            "_________________________________________________________________\n",
            " Layer (type)                Output Shape              Param #   \n",
            "=================================================================\n",
            " reshape_9 (Reshape)         (None, 1, 2048, 4)        0         \n",
            "                                                                 \n",
            " conv2d_13 (Conv2D)          (None, 1, 2048, 64)       832       \n",
            "                                                                 \n",
            " batch_normalization_13 (Bat  (None, 1, 2048, 64)      256       \n",
            " chNormalization)                                                \n",
            "                                                                 \n",
            " re_lu_13 (ReLU)             (None, 1, 2048, 64)       0         \n",
            "                                                                 \n",
            " conv2d_14 (Conv2D)          (None, 1, 2048, 64)       12352     \n",
            "                                                                 \n",
            " batch_normalization_14 (Bat  (None, 1, 2048, 64)      256       \n",
            " chNormalization)                                                \n",
            "                                                                 \n",
            " re_lu_14 (ReLU)             (None, 1, 2048, 64)       0         \n",
            "                                                                 \n",
            " max_pooling2d_5 (MaxPooling  (None, 1, 1024, 64)      0         \n",
            " 2D)                                                             \n",
            "                                                                 \n",
            " conv2d_15 (Conv2D)          (None, 1, 1024, 128)      24704     \n",
            "                                                                 \n",
            " batch_normalization_15 (Bat  (None, 1, 1024, 128)     512       \n",
            " chNormalization)                                                \n",
            "                                                                 \n",
            " re_lu_15 (ReLU)             (None, 1, 1024, 128)      0         \n",
            "                                                                 \n",
            " conv2d_16 (Conv2D)          (None, 1, 1024, 128)      49280     \n",
            "                                                                 \n",
            " batch_normalization_16 (Bat  (None, 1, 1024, 128)     512       \n",
            " chNormalization)                                                \n",
            "                                                                 \n",
            " re_lu_16 (ReLU)             (None, 1, 1024, 128)      0         \n",
            "                                                                 \n",
            " max_pooling2d_6 (MaxPooling  (None, 1, 512, 128)      0         \n",
            " 2D)                                                             \n",
            "                                                                 \n",
            " conv2d_17 (Conv2D)          (None, 1, 512, 256)       98560     \n",
            "                                                                 \n",
            " batch_normalization_17 (Bat  (None, 1, 512, 256)      1024      \n",
            " chNormalization)                                                \n",
            "                                                                 \n",
            " re_lu_17 (ReLU)             (None, 1, 512, 256)       0         \n",
            "                                                                 \n",
            " conv2d_18 (Conv2D)          (None, 1, 512, 256)       196864    \n",
            "                                                                 \n",
            " batch_normalization_18 (Bat  (None, 1, 512, 256)      1024      \n",
            " chNormalization)                                                \n",
            "                                                                 \n",
            " re_lu_18 (ReLU)             (None, 1, 512, 256)       0         \n",
            "                                                                 \n",
            " conv2d_19 (Conv2D)          (None, 1, 512, 256)       196864    \n",
            "                                                                 \n",
            " batch_normalization_19 (Bat  (None, 1, 512, 256)      1024      \n",
            " chNormalization)                                                \n",
            "                                                                 \n",
            " re_lu_19 (ReLU)             (None, 1, 512, 256)       0         \n",
            "                                                                 \n",
            " max_pooling2d_7 (MaxPooling  (None, 1, 256, 256)      0         \n",
            " 2D)                                                             \n",
            "                                                                 \n",
            " conv2d_20 (Conv2D)          (None, 1, 256, 512)       393728    \n",
            "                                                                 \n",
            " batch_normalization_20 (Bat  (None, 1, 256, 512)      2048      \n",
            " chNormalization)                                                \n",
            "                                                                 \n",
            " re_lu_20 (ReLU)             (None, 1, 256, 512)       0         \n",
            "                                                                 \n",
            " conv2d_21 (Conv2D)          (None, 1, 256, 512)       786944    \n",
            "                                                                 \n",
            " batch_normalization_21 (Bat  (None, 1, 256, 512)      2048      \n",
            " chNormalization)                                                \n",
            "                                                                 \n",
            " re_lu_21 (ReLU)             (None, 1, 256, 512)       0         \n",
            "                                                                 \n",
            " conv2d_22 (Conv2D)          (None, 1, 256, 512)       786944    \n",
            "                                                                 \n",
            " batch_normalization_22 (Bat  (None, 1, 256, 512)      2048      \n",
            " chNormalization)                                                \n",
            "                                                                 \n",
            " re_lu_22 (ReLU)             (None, 1, 256, 512)       0         \n",
            "                                                                 \n",
            " max_pooling2d_8 (MaxPooling  (None, 1, 128, 512)      0         \n",
            " 2D)                                                             \n",
            "                                                                 \n",
            " conv2d_23 (Conv2D)          (None, 1, 128, 512)       786944    \n",
            "                                                                 \n",
            " batch_normalization_23 (Bat  (None, 1, 128, 512)      2048      \n",
            " chNormalization)                                                \n",
            "                                                                 \n",
            " re_lu_23 (ReLU)             (None, 1, 128, 512)       0         \n",
            "                                                                 \n",
            " conv2d_24 (Conv2D)          (None, 1, 128, 512)       786944    \n",
            "                                                                 \n",
            " batch_normalization_24 (Bat  (None, 1, 128, 512)      2048      \n",
            " chNormalization)                                                \n",
            "                                                                 \n",
            " re_lu_24 (ReLU)             (None, 1, 128, 512)       0         \n",
            "                                                                 \n",
            " conv2d_25 (Conv2D)          (None, 1, 128, 512)       786944    \n",
            "                                                                 \n",
            " batch_normalization_25 (Bat  (None, 1, 128, 512)      2048      \n",
            " chNormalization)                                                \n",
            "                                                                 \n",
            " re_lu_25 (ReLU)             (None, 1, 128, 512)       0         \n",
            "                                                                 \n",
            " max_pooling2d_9 (MaxPooling  (None, 1, 64, 512)       0         \n",
            " 2D)                                                             \n",
            "                                                                 \n",
            "=================================================================\n",
            "Total params: 4,924,800\n",
            "Trainable params: 4,916,352\n",
            "Non-trainable params: 8,448\n",
            "_________________________________________________________________\n",
            "None\n"
          ]
        }
      ]
    },
    {
      "cell_type": "code",
      "source": [
        "combine = tf.keras.layers.concatenate([encoded_left, encoded_right], axis = 2)\n",
        "flat = tf.keras.layers.Flatten()(combine) #output size (None, 65536)\n",
        "d1 = tf.keras.layers.Dropout(rate=0.2)(flat)\n",
        "d2 = tf.keras.layers.Dense(4096, activation='relu')(d1)\n",
        "d2r = tf.keras.layers.Dropout(rate=0.2)(d2)\n",
        "d3 = tf.keras.layers.Dense(2048, activation='relu')(d2r)\n",
        "d3r = tf.keras.layers.Dropout(rate=0.2)(d3)\n",
        "output = tf.keras.layers.Dense(1, activation = 'softmax')(d3r)\n"
      ],
      "metadata": {
        "id": "XxxwrXrAmTXv"
      },
      "execution_count": null,
      "outputs": []
    },
    {
      "cell_type": "code",
      "source": [
        "print(output)"
      ],
      "metadata": {
        "colab": {
          "base_uri": "https://localhost:8080/"
        },
        "id": "w2ku0F3InbD8",
        "outputId": "ee6fea8a-8882-4ed5-d862-8b3820b04ff2"
      },
      "execution_count": null,
      "outputs": [
        {
          "output_type": "stream",
          "name": "stdout",
          "text": [
            "KerasTensor(type_spec=TensorSpec(shape=(None, 1), dtype=tf.float32, name=None), name='dense_2/Softmax:0', description=\"created by layer 'dense_2'\")\n"
          ]
        }
      ]
    },
    {
      "cell_type": "code",
      "source": [
        "model = tf.keras.Model(inputs = inputs, outputs = output)\n",
        "opt = tf.keras.optimizers.Adam(learning_rate=0.02)\n",
        "# loss1 = tf.keras.losses.BinaryCrossentropy(from_logits=False)\n",
        "# model.compile(optimizer = opt, loss = loss1(Y_gt,output), metrics=[tf.keras.losses.BinaryCrossentropy(from_logits=False)])\n",
        "# model.compile(optimizer = 'adam', loss = tf.keras.losses.binary_crossentropy(Y_gt, output), metrics=[tf.keras.metrics.Accuracy()])\n",
        "# model.compile(loss='mean_absolute_error', optimizer=opt, metrics=['mse'])\n",
        "\n",
        "# opt = tf.keras.optimizers.SGD(learning_rate=0.02, momentum=0.9)\n",
        "\n",
        "model.compile(optimizer = opt, loss = BinaryFocalLoss(pos_weight = 70, gamma=1.5), metrics=[tf.keras.metrics.Accuracy()])\n",
        "model.summary()"
      ],
      "metadata": {
        "colab": {
          "base_uri": "https://localhost:8080/"
        },
        "id": "rZv-pRBbmT5B",
        "outputId": "df8e9953-dfcf-475a-978d-d392f712f703"
      },
      "execution_count": null,
      "outputs": [
        {
          "output_type": "stream",
          "name": "stdout",
          "text": [
            "Model: \"model_1\"\n",
            "__________________________________________________________________________________________________\n",
            " Layer (type)                   Output Shape         Param #     Connected to                     \n",
            "==================================================================================================\n",
            " input_1 (InputLayer)           [(None, 7168)]       0           []                               \n",
            "                                                                                                  \n",
            " tf.split (TFOpLambda)          [(None, 2048),       0           ['input_1[0][0]']                \n",
            "                                 (None, 512),                                                     \n",
            "                                 (None, 512),                                                     \n",
            "                                 (None, 512),                                                     \n",
            "                                 (None, 2048),                                                    \n",
            "                                 (None, 512),                                                     \n",
            "                                 (None, 512),                                                     \n",
            "                                 (None, 512)]                                                     \n",
            "                                                                                                  \n",
            " concatenate (Concatenate)      (None, 2048)         0           ['tf.split[0][1]',               \n",
            "                                                                  'tf.split[0][1]',               \n",
            "                                                                  'tf.split[0][1]',               \n",
            "                                                                  'tf.split[0][1]']               \n",
            "                                                                                                  \n",
            " concatenate_1 (Concatenate)    (None, 2048)         0           ['tf.split[0][2]',               \n",
            "                                                                  'tf.split[0][2]',               \n",
            "                                                                  'tf.split[0][2]',               \n",
            "                                                                  'tf.split[0][2]']               \n",
            "                                                                                                  \n",
            " concatenate_2 (Concatenate)    (None, 2048)         0           ['tf.split[0][3]',               \n",
            "                                                                  'tf.split[0][3]',               \n",
            "                                                                  'tf.split[0][3]',               \n",
            "                                                                  'tf.split[0][3]']               \n",
            "                                                                                                  \n",
            " concatenate_3 (Concatenate)    (None, 2048)         0           ['tf.split[0][5]',               \n",
            "                                                                  'tf.split[0][5]',               \n",
            "                                                                  'tf.split[0][5]',               \n",
            "                                                                  'tf.split[0][5]']               \n",
            "                                                                                                  \n",
            " concatenate_4 (Concatenate)    (None, 2048)         0           ['tf.split[0][6]',               \n",
            "                                                                  'tf.split[0][6]',               \n",
            "                                                                  'tf.split[0][6]',               \n",
            "                                                                  'tf.split[0][6]']               \n",
            "                                                                                                  \n",
            " concatenate_5 (Concatenate)    (None, 2048)         0           ['tf.split[0][7]',               \n",
            "                                                                  'tf.split[0][7]',               \n",
            "                                                                  'tf.split[0][7]',               \n",
            "                                                                  'tf.split[0][7]']               \n",
            "                                                                                                  \n",
            " reshape (Reshape)              (None, 2048, 1)      0           ['tf.split[0][0]']               \n",
            "                                                                                                  \n",
            " reshape_2 (Reshape)            (None, 2048, 1)      0           ['concatenate[0][0]']            \n",
            "                                                                                                  \n",
            " reshape_3 (Reshape)            (None, 2048, 1)      0           ['concatenate_1[0][0]']          \n",
            "                                                                                                  \n",
            " reshape_4 (Reshape)            (None, 2048, 1)      0           ['concatenate_2[0][0]']          \n",
            "                                                                                                  \n",
            " reshape_1 (Reshape)            (None, 2048, 1)      0           ['tf.split[0][4]']               \n",
            "                                                                                                  \n",
            " reshape_5 (Reshape)            (None, 2048, 1)      0           ['concatenate_3[0][0]']          \n",
            "                                                                                                  \n",
            " reshape_6 (Reshape)            (None, 2048, 1)      0           ['concatenate_4[0][0]']          \n",
            "                                                                                                  \n",
            " reshape_7 (Reshape)            (None, 2048, 1)      0           ['concatenate_5[0][0]']          \n",
            "                                                                                                  \n",
            " concatenate_6 (Concatenate)    (None, 2048, 4)      0           ['reshape[0][0]',                \n",
            "                                                                  'reshape_2[0][0]',              \n",
            "                                                                  'reshape_3[0][0]',              \n",
            "                                                                  'reshape_4[0][0]']              \n",
            "                                                                                                  \n",
            " concatenate_7 (Concatenate)    (None, 2048, 4)      0           ['reshape_1[0][0]',              \n",
            "                                                                  'reshape_5[0][0]',              \n",
            "                                                                  'reshape_6[0][0]',              \n",
            "                                                                  'reshape_7[0][0]']              \n",
            "                                                                                                  \n",
            " sequential (Sequential)        (None, 1, 64, 512)   4924800     ['concatenate_6[0][0]']          \n",
            "                                                                                                  \n",
            " sequential_1 (Sequential)      (None, 1, 64, 512)   4924800     ['concatenate_7[0][0]']          \n",
            "                                                                                                  \n",
            " concatenate_8 (Concatenate)    (None, 1, 128, 512)  0           ['sequential[0][0]',             \n",
            "                                                                  'sequential_1[0][0]']           \n",
            "                                                                                                  \n",
            " flatten (Flatten)              (None, 65536)        0           ['concatenate_8[0][0]']          \n",
            "                                                                                                  \n",
            " dropout (Dropout)              (None, 65536)        0           ['flatten[0][0]']                \n",
            "                                                                                                  \n",
            " dense (Dense)                  (None, 4096)         268439552   ['dropout[0][0]']                \n",
            "                                                                                                  \n",
            " dropout_1 (Dropout)            (None, 4096)         0           ['dense[0][0]']                  \n",
            "                                                                                                  \n",
            " dense_1 (Dense)                (None, 2048)         8390656     ['dropout_1[0][0]']              \n",
            "                                                                                                  \n",
            " dropout_2 (Dropout)            (None, 2048)         0           ['dense_1[0][0]']                \n",
            "                                                                                                  \n",
            " dense_2 (Dense)                (None, 1)            2049        ['dropout_2[0][0]']              \n",
            "                                                                                                  \n",
            "==================================================================================================\n",
            "Total params: 286,681,857\n",
            "Trainable params: 286,664,961\n",
            "Non-trainable params: 16,896\n",
            "__________________________________________________________________________________________________\n"
          ]
        }
      ]
    },
    {
      "cell_type": "code",
      "source": [
        "tf.keras.utils.plot_model(model, to_file='cnn_VGG.png', dpi=100)"
      ],
      "metadata": {
        "colab": {
          "base_uri": "https://localhost:8080/",
          "height": 1000
        },
        "id": "qRxkb8V0ouX2",
        "outputId": "e7ca9b94-aa10-40af-dcd2-81cdd7bed8fa"
      },
      "execution_count": null,
      "outputs": [
        {
          "output_type": "execute_result",
          "data": {
            "image/png": "[encoded data removed]",
            "text/plain": [
              "<IPython.core.display.Image object>"
            ]
          },
          "metadata": {},
          "execution_count": 36
        }
      ]
    },
    {
      "cell_type": "code",
      "source": [
        "training_log = 'crossval_fold_' + '.txt'\n",
        "csv_logger = tf.keras.callbacks.CSVLogger(training_log, append = True, separator=' ')\n",
        "metrics = model.fit(X, Y_gt, epochs=5, validation_split= 0.2, verbose=2, batch_size = 32)"
      ],
      "metadata": {
        "colab": {
          "base_uri": "https://localhost:8080/"
        },
        "id": "uynFQ1IUpGcu",
        "outputId": "7f90a801-fdd7-47cb-afd6-975b00190bbd"
      },
      "execution_count": null,
      "outputs": [
        {
          "output_type": "stream",
          "name": "stdout",
          "text": [
            "Epoch 1/5\n",
            "28/28 - 15s - loss: 14.7627 - accuracy: 0.0841 - val_loss: 14.7261 - val_accuracy: 0.0864 - 15s/epoch - 544ms/step\n",
            "Epoch 2/5\n",
            "28/28 - 14s - loss: 14.7627 - accuracy: 0.0841 - val_loss: 14.7261 - val_accuracy: 0.0864 - 14s/epoch - 506ms/step\n",
            "Epoch 3/5\n",
            "28/28 - 14s - loss: 14.7627 - accuracy: 0.0841 - val_loss: 14.7261 - val_accuracy: 0.0864 - 14s/epoch - 507ms/step\n",
            "Epoch 4/5\n",
            "28/28 - 14s - loss: 14.7627 - accuracy: 0.0841 - val_loss: 14.7261 - val_accuracy: 0.0864 - 14s/epoch - 505ms/step\n",
            "Epoch 5/5\n",
            "28/28 - 14s - loss: 14.7627 - accuracy: 0.0841 - val_loss: 14.7261 - val_accuracy: 0.0864 - 14s/epoch - 516ms/step\n"
          ]
        }
      ]
    }
  ]
}