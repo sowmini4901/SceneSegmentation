{
  "nbformat": 4,
  "nbformat_minor": 0,
  "metadata": {
    "colab": {
      "name": "data.ipynb",
      "provenance": [],
      "collapsed_sections": [],
      "authorship_tag": "ABX9TyO5lMnDnJuhmtSfaiOSHtMD",
      "include_colab_link": true
    },
    "kernelspec": {
      "name": "python3",
      "display_name": "Python 3"
    },
    "language_info": {
      "name": "python"
    }
  },
  "cells": [
    {
      "cell_type": "markdown",
      "metadata": {
        "id": "view-in-github",
        "colab_type": "text"
      },
      "source": [
        "<a href=\"https://colab.research.google.com/github/sowmini4901/SceneSegmentation/blob/main/data.ipynb\" target=\"_parent\"><img src=\"https://colab.research.google.com/assets/colab-badge.svg\" alt=\"Open In Colab\"/></a>"
      ]
    },
    {
      "cell_type": "code",
      "source": [
        "pip install focal-loss"
      ],
      "metadata": {
        "colab": {
          "base_uri": "https://localhost:8080/"
        },
        "id": "zrbGMLjptlvt",
        "outputId": "2a3eee31-e952-46e5-afd9-aaa4761657eb"
      },
      "execution_count": null,
      "outputs": [
        {
          "output_type": "stream",
          "name": "stdout",
          "text": [
            "Collecting focal-loss\n",
            "  Downloading focal_loss-0.0.7-py3-none-any.whl (19 kB)\n",
            "Requirement already satisfied: tensorflow>=2.2 in /usr/local/lib/python3.7/dist-packages (from focal-loss) (2.7.0)\n",
            "Requirement already satisfied: typing-extensions>=3.6.6 in /usr/local/lib/python3.7/dist-packages (from tensorflow>=2.2->focal-loss) (3.10.0.2)\n",
            "Requirement already satisfied: libclang>=9.0.1 in /usr/local/lib/python3.7/dist-packages (from tensorflow>=2.2->focal-loss) (12.0.0)\n",
            "Requirement already satisfied: google-pasta>=0.1.1 in /usr/local/lib/python3.7/dist-packages (from tensorflow>=2.2->focal-loss) (0.2.0)\n",
            "Requirement already satisfied: gast<0.5.0,>=0.2.1 in /usr/local/lib/python3.7/dist-packages (from tensorflow>=2.2->focal-loss) (0.4.0)\n",
            "Requirement already satisfied: opt-einsum>=2.3.2 in /usr/local/lib/python3.7/dist-packages (from tensorflow>=2.2->focal-loss) (3.3.0)\n",
            "Requirement already satisfied: h5py>=2.9.0 in /usr/local/lib/python3.7/dist-packages (from tensorflow>=2.2->focal-loss) (3.1.0)\n",
            "Requirement already satisfied: termcolor>=1.1.0 in /usr/local/lib/python3.7/dist-packages (from tensorflow>=2.2->focal-loss) (1.1.0)\n",
            "Requirement already satisfied: tensorflow-estimator<2.8,~=2.7.0rc0 in /usr/local/lib/python3.7/dist-packages (from tensorflow>=2.2->focal-loss) (2.7.0)\n",
            "Requirement already satisfied: flatbuffers<3.0,>=1.12 in /usr/local/lib/python3.7/dist-packages (from tensorflow>=2.2->focal-loss) (2.0)\n",
            "Requirement already satisfied: tensorflow-io-gcs-filesystem>=0.21.0 in /usr/local/lib/python3.7/dist-packages (from tensorflow>=2.2->focal-loss) (0.22.0)\n",
            "Requirement already satisfied: keras-preprocessing>=1.1.1 in /usr/local/lib/python3.7/dist-packages (from tensorflow>=2.2->focal-loss) (1.1.2)\n",
            "Requirement already satisfied: six>=1.12.0 in /usr/local/lib/python3.7/dist-packages (from tensorflow>=2.2->focal-loss) (1.15.0)\n",
            "Requirement already satisfied: tensorboard~=2.6 in /usr/local/lib/python3.7/dist-packages (from tensorflow>=2.2->focal-loss) (2.7.0)\n",
            "Requirement already satisfied: protobuf>=3.9.2 in /usr/local/lib/python3.7/dist-packages (from tensorflow>=2.2->focal-loss) (3.17.3)\n",
            "Requirement already satisfied: numpy>=1.14.5 in /usr/local/lib/python3.7/dist-packages (from tensorflow>=2.2->focal-loss) (1.19.5)\n",
            "Requirement already satisfied: keras<2.8,>=2.7.0rc0 in /usr/local/lib/python3.7/dist-packages (from tensorflow>=2.2->focal-loss) (2.7.0)\n",
            "Requirement already satisfied: grpcio<2.0,>=1.24.3 in /usr/local/lib/python3.7/dist-packages (from tensorflow>=2.2->focal-loss) (1.42.0)\n",
            "Requirement already satisfied: wrapt>=1.11.0 in /usr/local/lib/python3.7/dist-packages (from tensorflow>=2.2->focal-loss) (1.13.3)\n",
            "Requirement already satisfied: absl-py>=0.4.0 in /usr/local/lib/python3.7/dist-packages (from tensorflow>=2.2->focal-loss) (0.12.0)\n",
            "Requirement already satisfied: astunparse>=1.6.0 in /usr/local/lib/python3.7/dist-packages (from tensorflow>=2.2->focal-loss) (1.6.3)\n",
            "Requirement already satisfied: wheel<1.0,>=0.32.0 in /usr/local/lib/python3.7/dist-packages (from tensorflow>=2.2->focal-loss) (0.37.0)\n",
            "Requirement already satisfied: cached-property in /usr/local/lib/python3.7/dist-packages (from h5py>=2.9.0->tensorflow>=2.2->focal-loss) (1.5.2)\n",
            "Requirement already satisfied: setuptools>=41.0.0 in /usr/local/lib/python3.7/dist-packages (from tensorboard~=2.6->tensorflow>=2.2->focal-loss) (57.4.0)\n",
            "Requirement already satisfied: markdown>=2.6.8 in /usr/local/lib/python3.7/dist-packages (from tensorboard~=2.6->tensorflow>=2.2->focal-loss) (3.3.6)\n",
            "Requirement already satisfied: google-auth<3,>=1.6.3 in /usr/local/lib/python3.7/dist-packages (from tensorboard~=2.6->tensorflow>=2.2->focal-loss) (1.35.0)\n",
            "Requirement already satisfied: google-auth-oauthlib<0.5,>=0.4.1 in /usr/local/lib/python3.7/dist-packages (from tensorboard~=2.6->tensorflow>=2.2->focal-loss) (0.4.6)\n",
            "Requirement already satisfied: requests<3,>=2.21.0 in /usr/local/lib/python3.7/dist-packages (from tensorboard~=2.6->tensorflow>=2.2->focal-loss) (2.23.0)\n",
            "Requirement already satisfied: tensorboard-plugin-wit>=1.6.0 in /usr/local/lib/python3.7/dist-packages (from tensorboard~=2.6->tensorflow>=2.2->focal-loss) (1.8.0)\n",
            "Requirement already satisfied: tensorboard-data-server<0.7.0,>=0.6.0 in /usr/local/lib/python3.7/dist-packages (from tensorboard~=2.6->tensorflow>=2.2->focal-loss) (0.6.1)\n",
            "Requirement already satisfied: werkzeug>=0.11.15 in /usr/local/lib/python3.7/dist-packages (from tensorboard~=2.6->tensorflow>=2.2->focal-loss) (1.0.1)\n",
            "Requirement already satisfied: cachetools<5.0,>=2.0.0 in /usr/local/lib/python3.7/dist-packages (from google-auth<3,>=1.6.3->tensorboard~=2.6->tensorflow>=2.2->focal-loss) (4.2.4)\n",
            "Requirement already satisfied: pyasn1-modules>=0.2.1 in /usr/local/lib/python3.7/dist-packages (from google-auth<3,>=1.6.3->tensorboard~=2.6->tensorflow>=2.2->focal-loss) (0.2.8)\n",
            "Requirement already satisfied: rsa<5,>=3.1.4 in /usr/local/lib/python3.7/dist-packages (from google-auth<3,>=1.6.3->tensorboard~=2.6->tensorflow>=2.2->focal-loss) (4.8)\n",
            "Requirement already satisfied: requests-oauthlib>=0.7.0 in /usr/local/lib/python3.7/dist-packages (from google-auth-oauthlib<0.5,>=0.4.1->tensorboard~=2.6->tensorflow>=2.2->focal-loss) (1.3.0)\n",
            "Requirement already satisfied: importlib-metadata>=4.4 in /usr/local/lib/python3.7/dist-packages (from markdown>=2.6.8->tensorboard~=2.6->tensorflow>=2.2->focal-loss) (4.8.2)\n",
            "Requirement already satisfied: zipp>=0.5 in /usr/local/lib/python3.7/dist-packages (from importlib-metadata>=4.4->markdown>=2.6.8->tensorboard~=2.6->tensorflow>=2.2->focal-loss) (3.6.0)\n",
            "Requirement already satisfied: pyasn1<0.5.0,>=0.4.6 in /usr/local/lib/python3.7/dist-packages (from pyasn1-modules>=0.2.1->google-auth<3,>=1.6.3->tensorboard~=2.6->tensorflow>=2.2->focal-loss) (0.4.8)\n",
            "Requirement already satisfied: chardet<4,>=3.0.2 in /usr/local/lib/python3.7/dist-packages (from requests<3,>=2.21.0->tensorboard~=2.6->tensorflow>=2.2->focal-loss) (3.0.4)\n",
            "Requirement already satisfied: certifi>=2017.4.17 in /usr/local/lib/python3.7/dist-packages (from requests<3,>=2.21.0->tensorboard~=2.6->tensorflow>=2.2->focal-loss) (2021.10.8)\n",
            "Requirement already satisfied: idna<3,>=2.5 in /usr/local/lib/python3.7/dist-packages (from requests<3,>=2.21.0->tensorboard~=2.6->tensorflow>=2.2->focal-loss) (2.10)\n",
            "Requirement already satisfied: urllib3!=1.25.0,!=1.25.1,<1.26,>=1.21.1 in /usr/local/lib/python3.7/dist-packages (from requests<3,>=2.21.0->tensorboard~=2.6->tensorflow>=2.2->focal-loss) (1.24.3)\n",
            "Requirement already satisfied: oauthlib>=3.0.0 in /usr/local/lib/python3.7/dist-packages (from requests-oauthlib>=0.7.0->google-auth-oauthlib<0.5,>=0.4.1->tensorboard~=2.6->tensorflow>=2.2->focal-loss) (3.1.1)\n",
            "Installing collected packages: focal-loss\n",
            "Successfully installed focal-loss-0.0.7\n"
          ]
        }
      ]
    },
    {
      "cell_type": "code",
      "metadata": {
        "id": "g08VtaQOdgPn"
      },
      "source": [
        "import pickle\n",
        "import torch\n",
        "import tensorflow as tf\n",
        "from tensorflow import keras\n",
        "import matplotlib.pyplot as plt\n",
        "%matplotlib inline\n",
        "import numpy as np\n",
        "import sklearn\n",
        "import os\n",
        "from sklearn import preprocessing\n",
        "from focal_loss import BinaryFocalLoss"
      ],
      "execution_count": null,
      "outputs": []
    },
    {
      "cell_type": "code",
      "metadata": {
        "colab": {
          "base_uri": "https://localhost:8080/"
        },
        "id": "kDKEBLAExBHC",
        "outputId": "ddeeefa8-9bfd-4b1f-f02c-b6bd10feebfb"
      },
      "source": [
        "from google.colab import drive\n",
        "\n",
        "drive.mount('/content/gdrive')"
      ],
      "execution_count": null,
      "outputs": [
        {
          "output_type": "stream",
          "name": "stdout",
          "text": [
            "Mounted at /content/gdrive\n"
          ]
        }
      ]
    },
    {
      "cell_type": "code",
      "metadata": {
        "colab": {
          "base_uri": "https://localhost:8080/"
        },
        "id": "xRHUqE-UwEYU",
        "outputId": "221031c3-840e-4b19-e239-d080c307e254"
      },
      "source": [
        "folder='/content/gdrive/MyDrive/movies/data'\n",
        "with open('/content/gdrive/MyDrive/movies/data/tt0052357.pkl','rb') as f:\n",
        "    data=pickle.load(f)\n",
        "\n",
        "print(type(data))\n",
        "x=list(data)\n",
        "print(x)"
      ],
      "execution_count": null,
      "outputs": [
        {
          "output_type": "stream",
          "name": "stdout",
          "text": [
            "<class 'dict'>\n",
            "['place', 'cast', 'action', 'audio', 'scene_transition_boundary_ground_truth', 'shot_end_frame', 'scene_transition_boundary_prediction', 'imdb_id']\n"
          ]
        }
      ]
    },
    {
      "cell_type": "code",
      "metadata": {
        "colab": {
          "base_uri": "https://localhost:8080/"
        },
        "id": "z5ygHmGr_mcH",
        "outputId": "9e993589-1893-4f2b-b361-391992f27ec5"
      },
      "source": [
        "#boolean vector for scene transitioning. Used for training the neural network which is ground truth\n",
        "a=data['scene_transition_boundary_ground_truth']\n",
        "print(type(a))\n",
        "a=a.data.numpy()\n",
        "print(a)"
      ],
      "execution_count": null,
      "outputs": [
        {
          "output_type": "stream",
          "name": "stdout",
          "text": [
            "<class 'torch.Tensor'>\n",
            "[False False False ... False False  True]\n"
          ]
        }
      ]
    },
    {
      "cell_type": "code",
      "metadata": {
        "colab": {
          "base_uri": "https://localhost:8080/"
        },
        "id": "XMuxZ3XBb1Ny",
        "outputId": "319b0f70-3cd7-483e-f695-23ae9d67b551"
      },
      "source": [
        "print(type(a))\n",
        "len(a)"
      ],
      "execution_count": null,
      "outputs": [
        {
          "output_type": "stream",
          "name": "stdout",
          "text": [
            "<class 'numpy.ndarray'>\n"
          ]
        },
        {
          "output_type": "execute_result",
          "data": {
            "text/plain": [
              "1100"
            ]
          },
          "metadata": {},
          "execution_count": 6
        }
      ]
    },
    {
      "cell_type": "code",
      "metadata": {
        "id": "mVDXr-jJIaEk",
        "colab": {
          "base_uri": "https://localhost:8080/"
        },
        "outputId": "0333d7ac-de23-4af3-bf63-c2bd28ab5177"
      },
      "source": [
        "#each shot boundary for a scene.\n",
        "b=data['scene_transition_boundary_prediction']\n",
        "print(type(b))\n",
        "b=b.data.numpy()\n",
        "print(b)\n"
      ],
      "execution_count": null,
      "outputs": [
        {
          "output_type": "stream",
          "name": "stdout",
          "text": [
            "<class 'torch.Tensor'>\n",
            "[0.     0.     0.4878 ... 0.     0.     0.    ]\n"
          ]
        }
      ]
    },
    {
      "cell_type": "code",
      "metadata": {
        "colab": {
          "base_uri": "https://localhost:8080/"
        },
        "id": "I0CVC47GcF6_",
        "outputId": "481d4a51-86cb-4f95-e7b9-3cd00e8d740e"
      },
      "source": [
        "print(type(b))\n",
        "len(b)"
      ],
      "execution_count": null,
      "outputs": [
        {
          "output_type": "stream",
          "name": "stdout",
          "text": [
            "<class 'numpy.ndarray'>\n"
          ]
        },
        {
          "output_type": "execute_result",
          "data": {
            "text/plain": [
              "1100"
            ]
          },
          "metadata": {},
          "execution_count": 8
        }
      ]
    },
    {
      "cell_type": "code",
      "metadata": {
        "colab": {
          "base_uri": "https://localhost:8080/"
        },
        "id": "SCvjtDOUwf7P",
        "outputId": "06a8fe73-dc21-443e-b38d-5c8e4a133d3f"
      },
      "source": [
        "c=data['shot_end_frame']\n",
        "print(type(c))\n",
        "c=c.data.numpy()\n",
        "print(c)"
      ],
      "execution_count": null,
      "outputs": [
        {
          "output_type": "stream",
          "name": "stdout",
          "text": [
            "<class 'torch.Tensor'>\n",
            "[    45   1149   1437 ... 183782 184354 184794]\n"
          ]
        }
      ]
    },
    {
      "cell_type": "code",
      "metadata": {
        "colab": {
          "base_uri": "https://localhost:8080/"
        },
        "id": "Be1OID9gwsNN",
        "outputId": "f1cf1c99-5c3c-4ed6-da6c-4845483f0548"
      },
      "source": [
        "print(type(c))\n",
        "len(c)"
      ],
      "execution_count": null,
      "outputs": [
        {
          "output_type": "stream",
          "name": "stdout",
          "text": [
            "<class 'numpy.ndarray'>\n"
          ]
        },
        {
          "output_type": "execute_result",
          "data": {
            "text/plain": [
              "1101"
            ]
          },
          "metadata": {},
          "execution_count": 10
        }
      ]
    },
    {
      "cell_type": "code",
      "metadata": {
        "id": "8s1QUywX5vS9",
        "colab": {
          "base_uri": "https://localhost:8080/"
        },
        "outputId": "bdea2ae8-1544-4325-d149-26b62128aad5"
      },
      "source": [
        "place=data['place']\n",
        "print(type(place))\n",
        "place=place.data.numpy()\n",
        "len(place)\n",
        "placeSize=place.shape[1]\n",
        "print(place.shape[1])"
      ],
      "execution_count": null,
      "outputs": [
        {
          "output_type": "stream",
          "name": "stdout",
          "text": [
            "<class 'torch.Tensor'>\n",
            "2048\n"
          ]
        }
      ]
    },
    {
      "cell_type": "code",
      "metadata": {
        "colab": {
          "base_uri": "https://localhost:8080/"
        },
        "id": "XA0M2FvgcPPn",
        "outputId": "c908985a-69f3-4d38-f508-b87045167a82"
      },
      "source": [
        "print(type(place))\n",
        "print(place[0])\n",
        "len(place)\n",
        "print(place.shape)\n",
        "#each feature vector length 2048. Total 1101 datapoints."
      ],
      "execution_count": null,
      "outputs": [
        {
          "output_type": "stream",
          "name": "stdout",
          "text": [
            "<class 'numpy.ndarray'>\n",
            "[0.06155615 0.10176984 0.05208468 ... 0.06714813 0.00159654 0.00959668]\n",
            "(1101, 2048)\n"
          ]
        }
      ]
    },
    {
      "cell_type": "code",
      "metadata": {
        "colab": {
          "base_uri": "https://localhost:8080/"
        },
        "id": "TCds2LaiZsXL",
        "outputId": "cef9c429-c4c1-49be-93a0-b4e3eda1839c"
      },
      "source": [
        "cast=data['cast']\n",
        "print(type(cast))\n",
        "cast=cast.data.numpy()\n",
        "castSize=cast.shape[1]\n",
        "print(cast.shape[1])"
      ],
      "execution_count": null,
      "outputs": [
        {
          "output_type": "stream",
          "name": "stdout",
          "text": [
            "<class 'torch.Tensor'>\n",
            "512\n"
          ]
        }
      ]
    },
    {
      "cell_type": "code",
      "metadata": {
        "colab": {
          "base_uri": "https://localhost:8080/"
        },
        "id": "d1Wj5dyxcqGX",
        "outputId": "ef0a1f06-03b3-4e3e-c41a-1df8cacc4bd3"
      },
      "source": [
        "print(type(cast))\n",
        "len(cast)"
      ],
      "execution_count": null,
      "outputs": [
        {
          "output_type": "stream",
          "name": "stdout",
          "text": [
            "<class 'numpy.ndarray'>\n"
          ]
        },
        {
          "output_type": "execute_result",
          "data": {
            "text/plain": [
              "1101"
            ]
          },
          "metadata": {},
          "execution_count": 14
        }
      ]
    },
    {
      "cell_type": "code",
      "metadata": {
        "colab": {
          "base_uri": "https://localhost:8080/"
        },
        "id": "EgBOUIvBZyRR",
        "outputId": "9c4a05d7-9110-4e6f-afe1-a6ed8fa2ea68"
      },
      "source": [
        "action=data['action']\n",
        "print(type(action))\n",
        "action=action.data.numpy()\n",
        "actionSize=action.shape[1]\n",
        "print(action.shape[1])"
      ],
      "execution_count": null,
      "outputs": [
        {
          "output_type": "stream",
          "name": "stdout",
          "text": [
            "<class 'torch.Tensor'>\n",
            "512\n"
          ]
        }
      ]
    },
    {
      "cell_type": "code",
      "metadata": {
        "colab": {
          "base_uri": "https://localhost:8080/"
        },
        "id": "L6wxCmZscwCw",
        "outputId": "a489f95b-04ec-44b9-8d76-6099de1287cf"
      },
      "source": [
        "print(type(action))"
      ],
      "execution_count": null,
      "outputs": [
        {
          "output_type": "stream",
          "name": "stdout",
          "text": [
            "<class 'numpy.ndarray'>\n"
          ]
        }
      ]
    },
    {
      "cell_type": "code",
      "metadata": {
        "colab": {
          "base_uri": "https://localhost:8080/"
        },
        "id": "sk1Z79q7aPyj",
        "outputId": "9af2a730-c86e-4362-be33-77b849061df3"
      },
      "source": [
        "audio=data['audio']\n",
        "print(type(audio))\n",
        "audio=audio.data.numpy()\n",
        "audioSize=audio.shape[1]\n",
        "print(audio.shape[1])"
      ],
      "execution_count": null,
      "outputs": [
        {
          "output_type": "stream",
          "name": "stdout",
          "text": [
            "<class 'torch.Tensor'>\n",
            "512\n"
          ]
        }
      ]
    },
    {
      "cell_type": "code",
      "metadata": {
        "colab": {
          "base_uri": "https://localhost:8080/"
        },
        "id": "-8Yfo6wHc1Jf",
        "outputId": "1facd919-7f10-4266-cb58-31fed215ff86"
      },
      "source": [
        "print(type(audio))\n",
        "len(audio)\n",
        "print(audio.shape)"
      ],
      "execution_count": null,
      "outputs": [
        {
          "output_type": "stream",
          "name": "stdout",
          "text": [
            "<class 'numpy.ndarray'>\n",
            "(1101, 512)\n"
          ]
        }
      ]
    },
    {
      "cell_type": "code",
      "metadata": {
        "colab": {
          "base_uri": "https://localhost:8080/"
        },
        "id": "X8GDu_q2aiM7",
        "outputId": "50743ae7-da47-4aa8-88fc-247d867e4c22"
      },
      "source": [
        "print(data['imdb_id'])\n",
        "\n",
        "print(type(data['imdb_id']))\n",
        "imdb=data['imdb_id']\n",
        "len(data['imdb_id'])"
      ],
      "execution_count": null,
      "outputs": [
        {
          "output_type": "stream",
          "name": "stdout",
          "text": [
            "tt0052357\n",
            "<class 'str'>\n"
          ]
        },
        {
          "output_type": "execute_result",
          "data": {
            "text/plain": [
              "9"
            ]
          },
          "metadata": {},
          "execution_count": 19
        }
      ]
    },
    {
      "cell_type": "code",
      "metadata": {
        "colab": {
          "base_uri": "https://localhost:8080/"
        },
        "id": "5-9C8tAabMvL",
        "outputId": "9d432efd-0aab-47a5-8ef7-92242e49e202"
      },
      "source": [
        "shotendFrame=data['shot_end_frame']\n",
        "print(type(shotendFrame))\n",
        "shotendFrame=shotendFrame.data.numpy()\n",
        "print(shotendFrame)"
      ],
      "execution_count": null,
      "outputs": [
        {
          "output_type": "stream",
          "name": "stdout",
          "text": [
            "<class 'torch.Tensor'>\n",
            "[    45   1149   1437 ... 183782 184354 184794]\n"
          ]
        }
      ]
    },
    {
      "cell_type": "code",
      "metadata": {
        "colab": {
          "base_uri": "https://localhost:8080/"
        },
        "id": "GRxnJ3hedX04",
        "outputId": "e7593b43-cd88-4b56-f880-16a51c64b13e"
      },
      "source": [
        "print(type(shotendFrame))\n",
        "print(shotendFrame[1])"
      ],
      "execution_count": null,
      "outputs": [
        {
          "output_type": "stream",
          "name": "stdout",
          "text": [
            "<class 'numpy.ndarray'>\n",
            "1149\n"
          ]
        }
      ]
    },
    {
      "cell_type": "code",
      "metadata": {
        "colab": {
          "base_uri": "https://localhost:8080/"
        },
        "id": "hHQGj3Q_83e0",
        "outputId": "b2e59066-14b0-4a4e-970d-69f63d5d4607"
      },
      "source": [
        "dict1=dict([('scene_transition_boundary_ground_truth',a),('scene_transition_boundary_prediction',b),('shot_end_frame',c),('imdb_id',imdb)])\n",
        "print(list(dict1))"
      ],
      "execution_count": null,
      "outputs": [
        {
          "output_type": "stream",
          "name": "stdout",
          "text": [
            "['scene_transition_boundary_ground_truth', 'scene_transition_boundary_prediction', 'shot_end_frame', 'imdb_id']\n"
          ]
        }
      ]
    },
    {
      "cell_type": "code",
      "metadata": {
        "id": "zp9XaLeJTdxt"
      },
      "source": [
        ""
      ],
      "execution_count": null,
      "outputs": []
    },
    {
      "cell_type": "code",
      "metadata": {
        "id": "uWxp3xt9GzFb",
        "colab": {
          "base_uri": "https://localhost:8080/"
        },
        "outputId": "f884a4a9-e6d2-4038-8d7b-0a01f2d483ed"
      },
      "source": [
        "#\n",
        "x=np.hstack((place,cast,action,audio))\n",
        "print(x.shape)\n",
        "#no of columns\n",
        "print(x[0].shape)\n",
        "#no.of rows\n",
        "N=x.shape[0]\n",
        "print(x.shape[0])\n",
        "y = data['scene_transition_boundary_ground_truth']"
      ],
      "execution_count": null,
      "outputs": [
        {
          "output_type": "stream",
          "name": "stdout",
          "text": [
            "(1101, 3584)\n",
            "(3584,)\n",
            "1101\n"
          ]
        }
      ]
    },
    {
      "cell_type": "code",
      "metadata": {
        "id": "GR7zvXU5TexG"
      },
      "source": [
        "k=0\n",
        "j=0\n",
        "# N = x.shape[0] #changed from x_scaled\n",
        "x_fold = np.zeros((N - 1, x.shape[1])) #changed from x_scaled\n",
        "for i in range(N - 1):\n",
        "    x_fold[i,:] = np.hstack((x[i,:])) #changed from x_scaled\n",
        "    \n",
        "if (j == 0):\n",
        "    X = x_fold\n",
        "    Y = y\n",
        "else:\n",
        "    X = np.concatenate((X, x_fold), axis = 0)\n",
        "    Y = np.concatenate((Y, y))\n",
        "    \n",
        "j = j + 1\n",
        "k = k + 1\n"
      ],
      "execution_count": null,
      "outputs": []
    },
    {
      "cell_type": "code",
      "metadata": {
        "colab": {
          "base_uri": "https://localhost:8080/"
        },
        "id": "hgRfMjd2Utyl",
        "outputId": "3b185065-c5ac-4dc0-90b3-02661adfa657"
      },
      "source": [
        "print(X.shape[1])\n",
        "print(X)\n",
        "\n",
        "print(Y.shape)\n",
        "print(Y)"
      ],
      "execution_count": null,
      "outputs": [
        {
          "output_type": "stream",
          "name": "stdout",
          "text": [
            "3584\n",
            "[[ 0.06155615  0.10176984  0.05208468 ... -0.08285517 -0.09114611\n",
            "  -0.1050798 ]\n",
            " [ 0.05211007  0.13151902  0.04764145 ... -0.06822268 -0.0753056\n",
            "  -0.08308809]\n",
            " [ 0.08774771  2.48847365  0.05433211 ... -0.03319887 -0.03856922\n",
            "  -0.04540908]\n",
            " ...\n",
            " [ 0.2964682   0.52283287  0.97852695 ... -0.01917431 -0.02224307\n",
            "  -0.02377244]\n",
            " [ 0.12348853  0.44956958  0.24555996 ... -0.0135067  -0.04963969\n",
            "  -0.05133732]\n",
            " [ 0.01962076  0.72867876  0.24324328 ... -0.02716186 -0.05924841\n",
            "  -0.06544846]]\n",
            "torch.Size([1100])\n",
            "tensor([False, False, False,  ..., False, False,  True])\n"
          ]
        }
      ]
    },
    {
      "cell_type": "code",
      "metadata": {
        "id": "ebDIkW0qyklH"
      },
      "source": [
        "M = Y.shape[0]\n",
        "Y_gt = np.zeros((M), dtype = np.uint8)\n",
        "for i in range(M):\n",
        "    if(Y[i] == True):\n",
        "        Y_gt[i] = 1\n",
        "    elif(Y[i] == False):\n",
        "        Y_gt[i] = 0"
      ],
      "execution_count": null,
      "outputs": []
    },
    {
      "cell_type": "code",
      "metadata": {
        "id": "-EI2dXg_yxPm"
      },
      "source": [
        "array_dims = np.zeros((4), dtype = np.int32)\n",
        "array_dims[0] = placeSize\n",
        "array_dims[1] = castSize #feat1_size + feat2_size\n",
        "array_dims[2] = actionSize #feat1_size + feat2_size + feat3_size\n",
        "array_dims[3] = audioSize #feat1_size + feat2_size + feat3_size + feat4_size\n",
        "# array_dims[4] = array_dims[0] #array_dims[3] + feat1_size\n",
        "# array_dims[5] = array_dims[1] #array_dims[3] + feat1_size + feat2_size\n",
        "# array_dims[6] = array_dims[2] #array_dims[3] + feat1_size + feat2_size + feat3_size\n",
        "# array_dims[7] = array_dims[3] #a"
      ],
      "execution_count": null,
      "outputs": []
    },
    {
      "cell_type": "code",
      "metadata": {
        "colab": {
          "base_uri": "https://localhost:8080/"
        },
        "id": "EHn988VdYVr7",
        "outputId": "044957ab-1cba-4083-ebae-31a102386d67"
      },
      "source": [
        "inputs = tf.keras.layers.Input(shape = (X.shape[1]))\n",
        "x1, x2, x3, x4 = tf.split(inputs, array_dims, axis = 1)\n",
        "\n",
        "print(inputs)"
      ],
      "execution_count": null,
      "outputs": [
        {
          "output_type": "stream",
          "name": "stdout",
          "text": [
            "KerasTensor(type_spec=TensorSpec(shape=(None, 3584), dtype=tf.float32, name='input_1'), name='input_1', description=\"created by layer 'input_1'\")\n"
          ]
        }
      ]
    },
    {
      "cell_type": "code",
      "source": [
        "x1_r = tf.keras.layers.Reshape((placeSize, 1))(x1)\n",
        "#x1_b = tf.keras.layers.BatchNormalization(axis=1)(x1_r)\n",
        "\n",
        "# x5_r = tf.keras.layers.Reshape((placeSize, 1))(x5)\n",
        "# #x5_b = tf.keras.layers.BatchNormalization(axis=1)(x5_r)\n",
        "\n",
        "#x2b = tf.keras.layers.BatchNormalization(axis=1)(x2)\n",
        "x2_conc = tf.keras.layers.concatenate([x2, x2, x2, x2], axis = 1) # create vectors of size (None, 2048) from size (None, 512)\n",
        "x2_r = tf.keras.layers.Reshape((placeSize, 1))(x2_conc)\n",
        "print(x2_r.shape)\n",
        "\n",
        "#x3b = tf.keras.layers.BatchNormalization(axis=1)(x3)\n",
        "x3_conc = tf.keras.layers.concatenate([x3, x3, x3, x3], axis = 1)\n",
        "x3_r = tf.keras.layers.Reshape((placeSize, 1))(x3_conc)\n",
        "print(x3_r.shape)\n",
        "\n",
        "#x4b = tf.keras.layers.BatchNormalization(axis=1)(x4)\n",
        "x4_conc = tf.keras.layers.concatenate([x4, x4, x4, x4], axis = 1)\n",
        "x4_r = tf.keras.layers.Reshape((placeSize, 1))(x4_conc)\n",
        "print(x4_r.shape)\n",
        "\n",
        "# #x6b = tf.keras.layers.BatchNormalization(axis=1)(x6)\n",
        "# x6_conc = tf.keras.layers.concatenate([x6, x6, x6, x6], axis = 1) # create vectors of size (None, 2048) from size (None, 512)\n",
        "# x6_r = tf.keras.layers.Reshape((placeSize, 1))(x6_conc)\n",
        "# print(x6_r.shape)\n",
        "\n",
        "# #x7b = tf.keras.layers.BatchNormalization(axis=1)(x7)\n",
        "# x7_conc = tf.keras.layers.concatenate([x7, x7, x7, x7], axis = 1)\n",
        "# x7_r = tf.keras.layers.Reshape((placeSize, 1))(x7_conc)\n",
        "# print(x7_r.shape)\n",
        "\n",
        "# #x8b = tf.keras.layers.BatchNormalization(axis=1)(x8)\n",
        "# x8_conc = tf.keras.layers.concatenate([x8, x8, x8, x8], axis = 1)\n",
        "# x8_r = tf.keras.layers.Reshape((placeSize, 1))(x8_conc)\n",
        "# print(x8_r.shape)\n",
        "\n",
        "shot_1 = tf.keras.layers.concatenate([x1_r, x2_r, x3_r, x4_r], axis = 2) # create a vector of size (None, 2048, 4)\n",
        "print(shot_1.shape)\n",
        "\n",
        "# shot_2 = tf.keras.layers.concatenate([x5_r, x6_r, x7_r, x8_r], axis = 2) # create a vector of size (None, 2048, 4)\n",
        "# print(shot_2.shape)"
      ],
      "metadata": {
        "colab": {
          "base_uri": "https://localhost:8080/"
        },
        "id": "ip5-L4Aqhepq",
        "outputId": "780f164e-e4d8-4ea1-e0ca-d69f5b633e4d"
      },
      "execution_count": null,
      "outputs": [
        {
          "output_type": "stream",
          "name": "stdout",
          "text": [
            "(None, 2048, 1)\n",
            "(None, 2048, 1)\n",
            "(None, 2048, 1)\n",
            "(None, 2048, 4)\n"
          ]
        }
      ]
    },
    {
      "cell_type": "code",
      "source": [
        "# building VGG net(standard architecture)\n",
        "conv1 = tf.keras.Sequential()\n",
        "conv1.add(tf.keras.layers.Reshape((1, placeSize, 4)))\n",
        "\n",
        "conv1.add(tf.keras.layers.Conv2D(filters=64, kernel_size=(1, 3), strides=1, padding='same', activation='linear')) #input size (None, 1, 2048, 4)\n",
        "conv1.add(tf.keras.layers.BatchNormalization(axis=3))\n",
        "conv1.add(tf.keras.layers.ReLU())\n",
        "\n",
        "conv1.add(tf.keras.layers.Conv2D(filters=64, kernel_size=(1, 3), strides=1, padding='same', activation='linear')) #input size (None, 1, 2048, 64)\n",
        "conv1.add(tf.keras.layers.BatchNormalization(axis=3))\n",
        "conv1.add(tf.keras.layers.ReLU())\n",
        "\n",
        "conv1.add(tf.keras.layers.MaxPool2D(pool_size=(1,2),strides=(2,2)))  #input size(none,1,2048,64)\n",
        "\n",
        "\n",
        "conv1.add(tf.keras.layers.Conv2D(filters=128, kernel_size=(1, 3), strides=1, padding='same', activation='linear')) #input size (None, 1, 1024, 64)\n",
        "conv1.add(tf.keras.layers.BatchNormalization(axis=3))\n",
        "conv1.add(tf.keras.layers.ReLU())\n",
        "\n",
        "conv1.add(tf.keras.layers.Conv2D(filters=128, kernel_size=(1, 3), strides=1, padding='same', activation='linear')) #input size (None, 1, 1024,64)\n",
        "conv1.add(tf.keras.layers.BatchNormalization(axis=3))\n",
        "conv1.add(tf.keras.layers.ReLU())\n",
        "\n",
        "conv1.add(tf.keras.layers.MaxPool2D(pool_size=(1,2),strides=(2,2)))   #input size(none,1,512,128)\n",
        "\n",
        "\n",
        "conv1.add(tf.keras.layers.Conv2D(filters=256, kernel_size=(1, 3), strides=1, padding='same', activation='linear')) #input size (None, 1, 512, 128)\n",
        "conv1.add(tf.keras.layers.BatchNormalization(axis=3))\n",
        "conv1.add(tf.keras.layers.ReLU())\n",
        "\n",
        "conv1.add(tf.keras.layers.Conv2D(filters=256, kernel_size=(1, 3), strides=1, padding='same', activation='linear')) #input size (None, 1, 512, 128)\n",
        "conv1.add(tf.keras.layers.BatchNormalization(axis=3))\n",
        "conv1.add(tf.keras.layers.ReLU())\n",
        "\n",
        "conv1.add(tf.keras.layers.Conv2D(filters=256, kernel_size=(1, 3), strides=1, padding='same', activation='linear')) #input size (None, 1, 512, 128)\n",
        "conv1.add(tf.keras.layers.BatchNormalization(axis=3))\n",
        "conv1.add(tf.keras.layers.ReLU())\n",
        "\n",
        "conv1.add(tf.keras.layers.MaxPool2D(pool_size=(1,2),strides=(2,2))) #output size (None, 1, 256, 256)\n",
        "\n",
        "conv1.add(tf.keras.layers.Conv2D(filters=512, kernel_size=(1, 3), strides=1, padding='same', activation='linear')) #input size (None, 1, 256, 256)\n",
        "conv1.add(tf.keras.layers.BatchNormalization(axis=3))\n",
        "conv1.add(tf.keras.layers.ReLU())\n",
        "\n",
        "\n",
        "conv1.add(tf.keras.layers.Conv2D(filters=512, kernel_size=(1, 3), strides=1, padding='same', activation='linear')) #input size (None, 1, 256, 256)\n",
        "conv1.add(tf.keras.layers.BatchNormalization(axis=3))\n",
        "conv1.add(tf.keras.layers.ReLU())\n",
        "\n",
        "conv1.add(tf.keras.layers.Conv2D(filters=512, kernel_size=(1, 3), strides=1, padding='same', activation='linear')) #input size (None, 1, 256, 256)\n",
        "conv1.add(tf.keras.layers.BatchNormalization(axis=3))\n",
        "conv1.add(tf.keras.layers.ReLU())\n",
        "\n",
        "conv1.add(tf.keras.layers.MaxPool2D(pool_size=(1,2),strides=(2,2))) #output size (None, 1, 128, 512)\n",
        "\n",
        "conv1.add(tf.keras.layers.Conv2D(filters=512, kernel_size=(1, 3), strides=1, padding='same', activation='linear')) #input size (None, 1, 128, 512)\n",
        "conv1.add(tf.keras.layers.BatchNormalization(axis=3))\n",
        "conv1.add(tf.keras.layers.ReLU())\n",
        "\n",
        "\n",
        "conv1.add(tf.keras.layers.Conv2D(filters=512, kernel_size=(1, 3), strides=1, padding='same', activation='linear')) #input size (None, 1, 128, 512)\n",
        "conv1.add(tf.keras.layers.BatchNormalization(axis=3))\n",
        "conv1.add(tf.keras.layers.ReLU())\n",
        "\n",
        "conv1.add(tf.keras.layers.Conv2D(filters=512, kernel_size=(1, 3), strides=1, padding='same', activation='linear')) #input size (None, 1, 128, 512)\n",
        "conv1.add(tf.keras.layers.BatchNormalization(axis=3))\n",
        "conv1.add(tf.keras.layers.ReLU())\n",
        "\n",
        "conv1.add(tf.keras.layers.MaxPool2D(pool_size=(1,2),strides=(2,2))) #output size (None, 1, 64, 512)\n",
        "conv1.add(tf.keras.layers.MaxPool2D(pool_size=(1,2),strides=(2,2))) #output size (None, 1, 32, 512)\n",
        "\n",
        "conv1.add(tf.keras.layers.Conv2D(filters=16, kernel_size=(1, 1), strides=1, padding='same', activation='linear')) #input size (None, 1, 32, 512)\n",
        "conv1.add(tf.keras.layers.BatchNormalization(axis=3))\n",
        "conv1.add(tf.keras.layers.ReLU())\n",
        "\n",
        "conv1.add(tf.keras.layers.Conv2D(filters=64, kernel_size=(1, 3), strides=1, padding='same', activation='linear')) #input size (None, 1, 32, 512)\n",
        "conv1.add(tf.keras.layers.BatchNormalization(axis=3))\n",
        "conv1.add(tf.keras.layers.ReLU())#input size (None, 1, 32, 64)\n",
        "\n",
        "\n",
        "encoded_left = conv1(shot_1)\n",
        "\n",
        "print(conv1.summary())\n",
        "\n",
        "\n"
      ],
      "metadata": {
        "colab": {
          "base_uri": "https://localhost:8080/"
        },
        "id": "qUAHJ0_Ab2Bq",
        "outputId": "a6152b66-3523-491a-9955-dc5c9757cfaf"
      },
      "execution_count": null,
      "outputs": [
        {
          "output_type": "stream",
          "name": "stdout",
          "text": [
            "Model: \"sequential\"\n",
            "_________________________________________________________________\n",
            " Layer (type)                Output Shape              Param #   \n",
            "=================================================================\n",
            " reshape_4 (Reshape)         (None, 1, 2048, 4)        0         \n",
            "                                                                 \n",
            " conv2d (Conv2D)             (None, 1, 2048, 64)       832       \n",
            "                                                                 \n",
            " batch_normalization (BatchN  (None, 1, 2048, 64)      256       \n",
            " ormalization)                                                   \n",
            "                                                                 \n",
            " re_lu (ReLU)                (None, 1, 2048, 64)       0         \n",
            "                                                                 \n",
            " conv2d_1 (Conv2D)           (None, 1, 2048, 64)       12352     \n",
            "                                                                 \n",
            " batch_normalization_1 (Batc  (None, 1, 2048, 64)      256       \n",
            " hNormalization)                                                 \n",
            "                                                                 \n",
            " re_lu_1 (ReLU)              (None, 1, 2048, 64)       0         \n",
            "                                                                 \n",
            " max_pooling2d (MaxPooling2D  (None, 1, 1024, 64)      0         \n",
            " )                                                               \n",
            "                                                                 \n",
            " conv2d_2 (Conv2D)           (None, 1, 1024, 128)      24704     \n",
            "                                                                 \n",
            " batch_normalization_2 (Batc  (None, 1, 1024, 128)     512       \n",
            " hNormalization)                                                 \n",
            "                                                                 \n",
            " re_lu_2 (ReLU)              (None, 1, 1024, 128)      0         \n",
            "                                                                 \n",
            " conv2d_3 (Conv2D)           (None, 1, 1024, 128)      49280     \n",
            "                                                                 \n",
            " batch_normalization_3 (Batc  (None, 1, 1024, 128)     512       \n",
            " hNormalization)                                                 \n",
            "                                                                 \n",
            " re_lu_3 (ReLU)              (None, 1, 1024, 128)      0         \n",
            "                                                                 \n",
            " max_pooling2d_1 (MaxPooling  (None, 1, 512, 128)      0         \n",
            " 2D)                                                             \n",
            "                                                                 \n",
            " conv2d_4 (Conv2D)           (None, 1, 512, 256)       98560     \n",
            "                                                                 \n",
            " batch_normalization_4 (Batc  (None, 1, 512, 256)      1024      \n",
            " hNormalization)                                                 \n",
            "                                                                 \n",
            " re_lu_4 (ReLU)              (None, 1, 512, 256)       0         \n",
            "                                                                 \n",
            " conv2d_5 (Conv2D)           (None, 1, 512, 256)       196864    \n",
            "                                                                 \n",
            " batch_normalization_5 (Batc  (None, 1, 512, 256)      1024      \n",
            " hNormalization)                                                 \n",
            "                                                                 \n",
            " re_lu_5 (ReLU)              (None, 1, 512, 256)       0         \n",
            "                                                                 \n",
            " conv2d_6 (Conv2D)           (None, 1, 512, 256)       196864    \n",
            "                                                                 \n",
            " batch_normalization_6 (Batc  (None, 1, 512, 256)      1024      \n",
            " hNormalization)                                                 \n",
            "                                                                 \n",
            " re_lu_6 (ReLU)              (None, 1, 512, 256)       0         \n",
            "                                                                 \n",
            " max_pooling2d_2 (MaxPooling  (None, 1, 256, 256)      0         \n",
            " 2D)                                                             \n",
            "                                                                 \n",
            " conv2d_7 (Conv2D)           (None, 1, 256, 512)       393728    \n",
            "                                                                 \n",
            " batch_normalization_7 (Batc  (None, 1, 256, 512)      2048      \n",
            " hNormalization)                                                 \n",
            "                                                                 \n",
            " re_lu_7 (ReLU)              (None, 1, 256, 512)       0         \n",
            "                                                                 \n",
            " conv2d_8 (Conv2D)           (None, 1, 256, 512)       786944    \n",
            "                                                                 \n",
            " batch_normalization_8 (Batc  (None, 1, 256, 512)      2048      \n",
            " hNormalization)                                                 \n",
            "                                                                 \n",
            " re_lu_8 (ReLU)              (None, 1, 256, 512)       0         \n",
            "                                                                 \n",
            " conv2d_9 (Conv2D)           (None, 1, 256, 512)       786944    \n",
            "                                                                 \n",
            " batch_normalization_9 (Batc  (None, 1, 256, 512)      2048      \n",
            " hNormalization)                                                 \n",
            "                                                                 \n",
            " re_lu_9 (ReLU)              (None, 1, 256, 512)       0         \n",
            "                                                                 \n",
            " max_pooling2d_3 (MaxPooling  (None, 1, 128, 512)      0         \n",
            " 2D)                                                             \n",
            "                                                                 \n",
            " conv2d_10 (Conv2D)          (None, 1, 128, 512)       786944    \n",
            "                                                                 \n",
            " batch_normalization_10 (Bat  (None, 1, 128, 512)      2048      \n",
            " chNormalization)                                                \n",
            "                                                                 \n",
            " re_lu_10 (ReLU)             (None, 1, 128, 512)       0         \n",
            "                                                                 \n",
            " conv2d_11 (Conv2D)          (None, 1, 128, 512)       786944    \n",
            "                                                                 \n",
            " batch_normalization_11 (Bat  (None, 1, 128, 512)      2048      \n",
            " chNormalization)                                                \n",
            "                                                                 \n",
            " re_lu_11 (ReLU)             (None, 1, 128, 512)       0         \n",
            "                                                                 \n",
            " conv2d_12 (Conv2D)          (None, 1, 128, 512)       786944    \n",
            "                                                                 \n",
            " batch_normalization_12 (Bat  (None, 1, 128, 512)      2048      \n",
            " chNormalization)                                                \n",
            "                                                                 \n",
            " re_lu_12 (ReLU)             (None, 1, 128, 512)       0         \n",
            "                                                                 \n",
            " max_pooling2d_4 (MaxPooling  (None, 1, 64, 512)       0         \n",
            " 2D)                                                             \n",
            "                                                                 \n",
            " max_pooling2d_5 (MaxPooling  (None, 1, 32, 512)       0         \n",
            " 2D)                                                             \n",
            "                                                                 \n",
            " conv2d_13 (Conv2D)          (None, 1, 32, 16)         8208      \n",
            "                                                                 \n",
            " batch_normalization_13 (Bat  (None, 1, 32, 16)        64        \n",
            " chNormalization)                                                \n",
            "                                                                 \n",
            " re_lu_13 (ReLU)             (None, 1, 32, 16)         0         \n",
            "                                                                 \n",
            " conv2d_14 (Conv2D)          (None, 1, 32, 64)         3136      \n",
            "                                                                 \n",
            " batch_normalization_14 (Bat  (None, 1, 32, 64)        256       \n",
            " chNormalization)                                                \n",
            "                                                                 \n",
            " re_lu_14 (ReLU)             (None, 1, 32, 64)         0         \n",
            "                                                                 \n",
            "=================================================================\n",
            "Total params: 4,936,464\n",
            "Trainable params: 4,927,856\n",
            "Non-trainable params: 8,608\n",
            "_________________________________________________________________\n",
            "None\n"
          ]
        }
      ]
    },
    {
      "cell_type": "code",
      "source": [
        "\n",
        "flat = tf.keras.layers.Flatten()(encoded_left) #output size (None, 65536)\n",
        "d1 = tf.keras.layers.Dropout(rate=0.2)(flat)\n",
        "# d2 = tf.keras.layers.Dense(, activation='relu')(d1)\n",
        "# d2r = tf.keras.layers.Dropout(rate=0.2)(d2)\n",
        "# d3 = tf.keras.layers.Dense(2048, activation='relu')(d2r)\n",
        "# d3r = tf.keras.layers.Dropout(rate=0.2)(d3)\n",
        "# output = tf.keras.layers.Dense(1, activation = 'softmax')(d3r)\n",
        "\n",
        "d2 = tf.keras.layers.Dense(30, activation='relu', kernel_regularizer='l1', bias_regularizer='l1')(flat)\n",
        "#d2r = tf.keras.layers.Dropout(rate=0.3)(d2)\n",
        "d2d = tf.keras.layers.BatchNormalization(axis=1)(d2)\n",
        "\n",
        "d3 = tf.keras.layers.Dense(10, activation='relu', kernel_regularizer='l1', bias_regularizer='l1')(d2d)\n",
        "#d3r = tf.keras.layers.Dropout(rate=0.3)(d3)\n",
        "d3d = tf.keras.layers.BatchNormalization(axis=1)(d3)\n",
        "\n",
        "output = tf.keras.layers.Dense(2, activation = 'softmax')(d3d)\n",
        "\n",
        "model = tf.keras.Model(inputs = inputs, outputs = output)\n",
        "opt = tf.keras.optimizers.SGD(learning_rate = 0.001)\n",
        "model.compile(optimizer = opt, loss = BinaryFocalLoss(pos_weight = 9, gamma = 2.5), metrics=[tf.keras.metrics.Accuracy()]) #BinaryFocalLoss(pos_weight=7, gamma=4)\n"
      ],
      "metadata": {
        "id": "XxxwrXrAmTXv"
      },
      "execution_count": null,
      "outputs": []
    },
    {
      "cell_type": "code",
      "source": [
        "print(output)"
      ],
      "metadata": {
        "colab": {
          "base_uri": "https://localhost:8080/"
        },
        "id": "w2ku0F3InbD8",
        "outputId": "ee698dcd-84e2-4dee-c7ea-3541277dd6f2"
      },
      "execution_count": null,
      "outputs": [
        {
          "output_type": "stream",
          "name": "stdout",
          "text": [
            "KerasTensor(type_spec=TensorSpec(shape=(None, 2), dtype=tf.float32, name=None), name='dense_2/Softmax:0', description=\"created by layer 'dense_2'\")\n"
          ]
        }
      ]
    },
    {
      "cell_type": "code",
      "source": [
        "# model = tf.keras.Model(inputs = inputs, outputs = output)\n",
        "# opt = tf.keras.optimizers.Adam(learning_rate=0.02)\n",
        "# # loss1 = tf.keras.losses.BinaryCrossentropy(from_logits=False)\n",
        "# # model.compile(optimizer = opt, loss = loss1(Y_gt,output), metrics=[tf.keras.losses.BinaryCrossentropy(from_logits=False)])\n",
        "# # model.compile(optimizer = 'adam', loss = tf.keras.losses.binary_crossentropy(Y_gt, output), metrics=[tf.keras.metrics.Accuracy()])\n",
        "# # model.compile(loss='mean_absolute_error', optimizer=opt, metrics=['mse'])\n",
        "\n",
        "# # opt = tf.keras.optimizers.SGD(learning_rate=0.02, momentum=0.9)\n",
        "\n",
        "# model.compile(optimizer = opt, loss = BinaryFocalLoss(pos_weight = 70, gamma=1.5), metrics=[tf.keras.metrics.Accuracy()])\n",
        "model.summary()"
      ],
      "metadata": {
        "colab": {
          "base_uri": "https://localhost:8080/"
        },
        "id": "rZv-pRBbmT5B",
        "outputId": "2113c64d-e7dd-47a4-cf5f-24b8157f8ab7"
      },
      "execution_count": null,
      "outputs": [
        {
          "output_type": "stream",
          "name": "stdout",
          "text": [
            "Model: \"model\"\n",
            "__________________________________________________________________________________________________\n",
            " Layer (type)                   Output Shape         Param #     Connected to                     \n",
            "==================================================================================================\n",
            " input_1 (InputLayer)           [(None, 3584)]       0           []                               \n",
            "                                                                                                  \n",
            " tf.split (TFOpLambda)          [(None, 2048),       0           ['input_1[0][0]']                \n",
            "                                 (None, 512),                                                     \n",
            "                                 (None, 512),                                                     \n",
            "                                 (None, 512)]                                                     \n",
            "                                                                                                  \n",
            " concatenate (Concatenate)      (None, 2048)         0           ['tf.split[0][1]',               \n",
            "                                                                  'tf.split[0][1]',               \n",
            "                                                                  'tf.split[0][1]',               \n",
            "                                                                  'tf.split[0][1]']               \n",
            "                                                                                                  \n",
            " concatenate_1 (Concatenate)    (None, 2048)         0           ['tf.split[0][2]',               \n",
            "                                                                  'tf.split[0][2]',               \n",
            "                                                                  'tf.split[0][2]',               \n",
            "                                                                  'tf.split[0][2]']               \n",
            "                                                                                                  \n",
            " concatenate_2 (Concatenate)    (None, 2048)         0           ['tf.split[0][3]',               \n",
            "                                                                  'tf.split[0][3]',               \n",
            "                                                                  'tf.split[0][3]',               \n",
            "                                                                  'tf.split[0][3]']               \n",
            "                                                                                                  \n",
            " reshape (Reshape)              (None, 2048, 1)      0           ['tf.split[0][0]']               \n",
            "                                                                                                  \n",
            " reshape_1 (Reshape)            (None, 2048, 1)      0           ['concatenate[0][0]']            \n",
            "                                                                                                  \n",
            " reshape_2 (Reshape)            (None, 2048, 1)      0           ['concatenate_1[0][0]']          \n",
            "                                                                                                  \n",
            " reshape_3 (Reshape)            (None, 2048, 1)      0           ['concatenate_2[0][0]']          \n",
            "                                                                                                  \n",
            " concatenate_3 (Concatenate)    (None, 2048, 4)      0           ['reshape[0][0]',                \n",
            "                                                                  'reshape_1[0][0]',              \n",
            "                                                                  'reshape_2[0][0]',              \n",
            "                                                                  'reshape_3[0][0]']              \n",
            "                                                                                                  \n",
            " sequential (Sequential)        (None, 1, 32, 64)    4936464     ['concatenate_3[0][0]']          \n",
            "                                                                                                  \n",
            " flatten (Flatten)              (None, 2048)         0           ['sequential[0][0]']             \n",
            "                                                                                                  \n",
            " dense (Dense)                  (None, 30)           61470       ['flatten[0][0]']                \n",
            "                                                                                                  \n",
            " batch_normalization_15 (BatchN  (None, 30)          120         ['dense[0][0]']                  \n",
            " ormalization)                                                                                    \n",
            "                                                                                                  \n",
            " dense_1 (Dense)                (None, 10)           310         ['batch_normalization_15[0][0]'] \n",
            "                                                                                                  \n",
            " batch_normalization_16 (BatchN  (None, 10)          40          ['dense_1[0][0]']                \n",
            " ormalization)                                                                                    \n",
            "                                                                                                  \n",
            " dense_2 (Dense)                (None, 2)            22          ['batch_normalization_16[0][0]'] \n",
            "                                                                                                  \n",
            "==================================================================================================\n",
            "Total params: 4,998,426\n",
            "Trainable params: 4,989,738\n",
            "Non-trainable params: 8,688\n",
            "__________________________________________________________________________________________________\n"
          ]
        }
      ]
    },
    {
      "cell_type": "code",
      "source": [
        "tf.keras.utils.plot_model(model, to_file='cnn_VGG.png', dpi=100)"
      ],
      "metadata": {
        "colab": {
          "base_uri": "https://localhost:8080/",
          "height": 1000
        },
        "id": "qRxkb8V0ouX2",
        "outputId": "f79e321f-45fa-4cb4-bd08-e0e1f5ca8271"
      },
      "execution_count": null,
      "outputs": [
        {
          "output_type": "execute_result",
          "data": {
            "image/png": "[encoded data removed]",
            "text/plain": [
              "<IPython.core.display.Image object>"
            ]
          },
          "metadata": {},
          "execution_count": 35
        }
      ]
    },
    {
      "cell_type": "code",
      "source": [
        "# training_log = 'crossval_fold_' + '.txt'\n",
        "# csv_logger = tf.keras.callbacks.CSVLogger(training_log, append = True, separator=' ')\n",
        "# metrics = model.fit(X, Y_gt, epochs=5, validation_split= 0.2, verbose=2, batch_size = 32)\n",
        "# somex=X[ :, :3584]\n",
        "\n",
        "training_log = folder + '/' + 'softmax_final_1' + '.txt'\n",
        "print(training_log)\n",
        "csv_logger = tf.keras.callbacks.CSVLogger(training_log, append = True, separator=' ')\n",
        "metrics = model.fit(X, tf.one_hot(Y_gt, depth=2), epochs=3, validation_split= 0.2, verbose=2, batch_size = 64, callbacks=[csv_logger],shuffle=True)\n",
        "\n",
        "model_ID = folder +  '/' + 'sigmoid_final_1' + '.h5'\n",
        "print(model_ID)\n",
        "tf.keras.models.save_model(model,model_ID)\n"
      ],
      "metadata": {
        "colab": {
          "base_uri": "https://localhost:8080/"
        },
        "id": "uynFQ1IUpGcu",
        "outputId": "91cd2a47-ecf5-496a-e95d-d8f410c7681e"
      },
      "execution_count": null,
      "outputs": [
        {
          "output_type": "stream",
          "name": "stdout",
          "text": [
            "/content/gdrive/MyDrive/movies/data/softmax_final_1.txt\n",
            "Epoch 1/3\n",
            "14/14 - 145s - loss: 18.2677 - accuracy: 0.0000e+00 - val_loss: 17.5589 - val_accuracy: 0.0000e+00 - 145s/epoch - 10s/step\n",
            "Epoch 2/3\n",
            "14/14 - 143s - loss: 17.8704 - accuracy: 0.0000e+00 - val_loss: 17.4614 - val_accuracy: 0.0000e+00 - 143s/epoch - 10s/step\n",
            "Epoch 3/3\n",
            "14/14 - 145s - loss: 17.5542 - accuracy: 0.0000e+00 - val_loss: 17.3760 - val_accuracy: 0.0000e+00 - 145s/epoch - 10s/step\n",
            "/content/gdrive/MyDrive/movies/data/sigmoid_final_1.h5\n"
          ]
        }
      ]
    },
    {
      "cell_type": "code",
      "source": [
        "plt.plot(metrics.history['loss'])\n",
        "plt.plot(metrics.history['val_loss'])\n",
        "plt.title('model loss')\n",
        "plt.ylabel('loss')\n",
        "plt.xlabel('epoch')\n",
        "plt.legend(['training loss', 'Validationtest loss'], loc='upper left')\n",
        "plt.show()"
      ],
      "metadata": {
        "colab": {
          "base_uri": "https://localhost:8080/",
          "height": 295
        },
        "id": "1l8jUGzR4Jkd",
        "outputId": "3f78fccb-4def-4b82-97eb-05321c412e36"
      },
      "execution_count": null,
      "outputs": [
        {
          "output_type": "display_data",
          "data": {
            "image/png": "[encoded data removed]",
            "text/plain": [
              "<Figure size 432x288 with 1 Axes>"
            ]
          },
          "metadata": {
            "needs_background": "light"
          }
        }
      ]
    }
  ]
}